{
  "cells": [
    {
      "cell_type": "markdown",
      "metadata": {},
      "source": [
        "# Linear Regression"
      ]
    },
    {
      "cell_type": "code",
      "execution_count": 41,
      "metadata": {
        "id": "snppx6sPcw9P"
      },
      "outputs": [],
      "source": [
        "import torch\n",
        "import torch.nn as nn\n",
        "import numpy as np\n",
        "import matplotlib.pyplot as plt"
      ]
    },
    {
      "cell_type": "code",
      "execution_count": 42,
      "metadata": {
        "id": "YizbBPyQEoVF"
      },
      "outputs": [],
      "source": [
        "def set_default(figsize=(8, 5), dpi=100):\n",
        "    plt.style.use([\"dark_background\", \"bmh\"])\n",
        "    plt.rc(\"axes\", facecolor=\"k\")\n",
        "    plt.rc(\"figure\", facecolor=\"k\")\n",
        "    plt.rc(\"figure\", figsize=figsize, dpi=dpi)\n",
        "\n",
        "\n",
        "set_default()"
      ]
    },
    {
      "cell_type": "code",
      "execution_count": 43,
      "metadata": {},
      "outputs": [],
      "source": [
        "# Dataset\n",
        "\n",
        "x_train = np.random.rand(\n",
        "    100,\n",
        ")  # 100 random numbers between 0 and 1\n",
        "\n",
        "noise = np.random.normal(\n",
        "    0,\n",
        "    0.1,\n",
        "    x_train.shape,\n",
        ")  # 100 random numbers with normal distribution\n",
        "\n",
        "y_train = x_train * 2 + 5 + noise\n",
        "\n",
        "x_train = x_train.astype(np.float32)\n",
        "noise = noise.astype(np.float32)\n",
        "y_train = y_train.astype(np.float32)\n",
        "\n",
        "x_train = x_train.reshape(-1, 1)\n",
        "y_train = y_train.reshape(-1, 1)"
      ]
    },
    {
      "cell_type": "code",
      "execution_count": 44,
      "metadata": {
        "id": "UP18RK9Zc3bV"
      },
      "outputs": [],
      "source": [
        "# Hyper-parameters\n",
        "input_size = 1\n",
        "output_size = 1\n",
        "num_epochs = 200\n",
        "learning_rate = 0.01"
      ]
    },
    {
      "cell_type": "code",
      "execution_count": 45,
      "metadata": {
        "colab": {
          "base_uri": "https://localhost:8080/",
          "height": 451
        },
        "id": "e3_FEXaHE-jb",
        "outputId": "5c6af41d-4b3c-457d-b303-8b73d18a14f5"
      },
      "outputs": [
        {
          "data": {
            "text/plain": [
              "[<matplotlib.lines.Line2D at 0x2a6a19450>]"
            ]
          },
          "execution_count": 45,
          "metadata": {},
          "output_type": "execute_result"
        },
        {
          "data": {
            "image/png": "[encoded data removed]",
            "text/plain": [
              "<Figure size 800x500 with 1 Axes>"
            ]
          },
          "metadata": {},
          "output_type": "display_data"
        }
      ],
      "source": [
        "# plot the training data\n",
        "plt.plot(x_train, y_train, \"ro\", label=\"Original data\")"
      ]
    },
    {
      "cell_type": "code",
      "execution_count": 46,
      "metadata": {},
      "outputs": [],
      "source": [
        "# Linear regression model\n",
        "class LinearRegression(nn.Module):\n",
        "    def __init__(self, input_dim, output_dim):\n",
        "        super(LinearRegression, self).__init__()\n",
        "        self.linear = nn.Linear(input_dim, output_dim, bias=True)\n",
        "\n",
        "    def forward(self, x):\n",
        "        return self.linear(x)"
      ]
    },
    {
      "cell_type": "code",
      "execution_count": 47,
      "metadata": {},
      "outputs": [
        {
          "name": "stdout",
          "output_type": "stream",
          "text": [
            "linear.weight Parameter containing:\n",
            "tensor([[-0.1432]], requires_grad=True)\n",
            "linear.bias Parameter containing:\n",
            "tensor([0.2460], requires_grad=True)\n"
          ]
        }
      ],
      "source": [
        "model = LinearRegression(input_size, output_size)\n",
        "\n",
        "# check the parameters of the linear model\n",
        "for name, param in model.named_parameters():\n",
        "    print(name, param)"
      ]
    },
    {
      "cell_type": "code",
      "execution_count": 48,
      "metadata": {},
      "outputs": [],
      "source": [
        "# Loss Function\n",
        "criterion = nn.MSELoss()\n",
        "\n",
        "# Optimizer, Stochastic Gradient Descent\n",
        "optimizer = torch.optim.SGD(model.parameters(), lr=learning_rate)"
      ]
    },
    {
      "cell_type": "code",
      "execution_count": 49,
      "metadata": {
        "colab": {
          "base_uri": "https://localhost:8080/"
        },
        "id": "AB19ckz6c3iX",
        "outputId": "d2951f82-60b3-4218-9952-a469d783a2ab"
      },
      "outputs": [
        {
          "name": "stdout",
          "output_type": "stream",
          "text": [
            "------\n",
            "Epoch [5/200], Loss: 27.5803\n",
            "linear.weight Parameter containing:\n",
            "tensor([[0.1355]], requires_grad=True)\n",
            "linear.bias Parameter containing:\n",
            "tensor([0.7953], requires_grad=True)\n",
            "------\n",
            "Epoch [10/200], Loss: 21.4453\n",
            "linear.weight Parameter containing:\n",
            "tensor([[0.3812]], requires_grad=True)\n",
            "linear.bias Parameter containing:\n",
            "tensor([1.2797], requires_grad=True)\n",
            "------\n",
            "Epoch [15/200], Loss: 16.6755\n",
            "linear.weight Parameter containing:\n",
            "tensor([[0.5977]], requires_grad=True)\n",
            "linear.bias Parameter containing:\n",
            "tensor([1.7068], requires_grad=True)\n",
            "------\n",
            "Epoch [20/200], Loss: 12.9671\n",
            "linear.weight Parameter containing:\n",
            "tensor([[0.7885]], requires_grad=True)\n",
            "linear.bias Parameter containing:\n",
            "tensor([2.0835], requires_grad=True)\n",
            "------\n",
            "Epoch [25/200], Loss: 10.0840\n",
            "linear.weight Parameter containing:\n",
            "tensor([[0.9567]], requires_grad=True)\n",
            "linear.bias Parameter containing:\n",
            "tensor([2.4158], requires_grad=True)\n",
            "------\n",
            "Epoch [30/200], Loss: 7.8425\n",
            "linear.weight Parameter containing:\n",
            "tensor([[1.1048]], requires_grad=True)\n",
            "linear.bias Parameter containing:\n",
            "tensor([2.7087], requires_grad=True)\n",
            "------\n",
            "Epoch [35/200], Loss: 6.0998\n",
            "linear.weight Parameter containing:\n",
            "tensor([[1.2352]], requires_grad=True)\n",
            "linear.bias Parameter containing:\n",
            "tensor([2.9671], requires_grad=True)\n",
            "------\n",
            "Epoch [40/200], Loss: 4.7449\n",
            "linear.weight Parameter containing:\n",
            "tensor([[1.3502]], requires_grad=True)\n",
            "linear.bias Parameter containing:\n",
            "tensor([3.1950], requires_grad=True)\n",
            "------\n",
            "Epoch [45/200], Loss: 3.6915\n",
            "linear.weight Parameter containing:\n",
            "tensor([[1.4514]], requires_grad=True)\n",
            "linear.bias Parameter containing:\n",
            "tensor([3.3960], requires_grad=True)\n",
            "------\n",
            "Epoch [50/200], Loss: 2.8726\n",
            "linear.weight Parameter containing:\n",
            "tensor([[1.5406]], requires_grad=True)\n",
            "linear.bias Parameter containing:\n",
            "tensor([3.5733], requires_grad=True)\n",
            "------\n",
            "Epoch [55/200], Loss: 2.2358\n",
            "linear.weight Parameter containing:\n",
            "tensor([[1.6190]], requires_grad=True)\n",
            "linear.bias Parameter containing:\n",
            "tensor([3.7297], requires_grad=True)\n",
            "------\n",
            "Epoch [60/200], Loss: 1.7408\n",
            "linear.weight Parameter containing:\n",
            "tensor([[1.6881]], requires_grad=True)\n",
            "linear.bias Parameter containing:\n",
            "tensor([3.8677], requires_grad=True)\n",
            "------\n",
            "Epoch [65/200], Loss: 1.3559\n",
            "linear.weight Parameter containing:\n",
            "tensor([[1.7489]], requires_grad=True)\n",
            "linear.bias Parameter containing:\n",
            "tensor([3.9893], requires_grad=True)\n",
            "------\n",
            "Epoch [70/200], Loss: 1.0567\n",
            "linear.weight Parameter containing:\n",
            "tensor([[1.8025]], requires_grad=True)\n",
            "linear.bias Parameter containing:\n",
            "tensor([4.0967], requires_grad=True)\n",
            "------\n",
            "Epoch [75/200], Loss: 0.8240\n",
            "linear.weight Parameter containing:\n",
            "tensor([[1.8495]], requires_grad=True)\n",
            "linear.bias Parameter containing:\n",
            "tensor([4.1914], requires_grad=True)\n",
            "------\n",
            "Epoch [80/200], Loss: 0.6432\n",
            "linear.weight Parameter containing:\n",
            "tensor([[1.8909]], requires_grad=True)\n",
            "linear.bias Parameter containing:\n",
            "tensor([4.2750], requires_grad=True)\n",
            "------\n",
            "Epoch [85/200], Loss: 0.5025\n",
            "linear.weight Parameter containing:\n",
            "tensor([[1.9273]], requires_grad=True)\n",
            "linear.bias Parameter containing:\n",
            "tensor([4.3487], requires_grad=True)\n",
            "------\n",
            "Epoch [90/200], Loss: 0.3932\n",
            "linear.weight Parameter containing:\n",
            "tensor([[1.9593]], requires_grad=True)\n",
            "linear.bias Parameter containing:\n",
            "tensor([4.4138], requires_grad=True)\n",
            "------\n",
            "Epoch [95/200], Loss: 0.3082\n",
            "linear.weight Parameter containing:\n",
            "tensor([[1.9874]], requires_grad=True)\n",
            "linear.bias Parameter containing:\n",
            "tensor([4.4712], requires_grad=True)\n",
            "------\n",
            "Epoch [100/200], Loss: 0.2421\n",
            "linear.weight Parameter containing:\n",
            "tensor([[2.0120]], requires_grad=True)\n",
            "linear.bias Parameter containing:\n",
            "tensor([4.5219], requires_grad=True)\n",
            "------\n",
            "Epoch [105/200], Loss: 0.1907\n",
            "linear.weight Parameter containing:\n",
            "tensor([[2.0337]], requires_grad=True)\n",
            "linear.bias Parameter containing:\n",
            "tensor([4.5667], requires_grad=True)\n",
            "------\n",
            "Epoch [110/200], Loss: 0.1507\n",
            "linear.weight Parameter containing:\n",
            "tensor([[2.0526]], requires_grad=True)\n",
            "linear.bias Parameter containing:\n",
            "tensor([4.6062], requires_grad=True)\n",
            "------\n",
            "Epoch [115/200], Loss: 0.1197\n",
            "linear.weight Parameter containing:\n",
            "tensor([[2.0693]], requires_grad=True)\n",
            "linear.bias Parameter containing:\n",
            "tensor([4.6411], requires_grad=True)\n",
            "------\n",
            "Epoch [120/200], Loss: 0.0955\n",
            "linear.weight Parameter containing:\n",
            "tensor([[2.0838]], requires_grad=True)\n",
            "linear.bias Parameter containing:\n",
            "tensor([4.6719], requires_grad=True)\n",
            "------\n",
            "Epoch [125/200], Loss: 0.0767\n",
            "linear.weight Parameter containing:\n",
            "tensor([[2.0966]], requires_grad=True)\n",
            "linear.bias Parameter containing:\n",
            "tensor([4.6991], requires_grad=True)\n",
            "------\n",
            "Epoch [130/200], Loss: 0.0621\n",
            "linear.weight Parameter containing:\n",
            "tensor([[2.1077]], requires_grad=True)\n",
            "linear.bias Parameter containing:\n",
            "tensor([4.7232], requires_grad=True)\n",
            "------\n",
            "Epoch [135/200], Loss: 0.0507\n",
            "linear.weight Parameter containing:\n",
            "tensor([[2.1174]], requires_grad=True)\n",
            "linear.bias Parameter containing:\n",
            "tensor([4.7445], requires_grad=True)\n",
            "------\n",
            "Epoch [140/200], Loss: 0.0419\n",
            "linear.weight Parameter containing:\n",
            "tensor([[2.1259]], requires_grad=True)\n",
            "linear.bias Parameter containing:\n",
            "tensor([4.7633], requires_grad=True)\n",
            "------\n",
            "Epoch [145/200], Loss: 0.0350\n",
            "linear.weight Parameter containing:\n",
            "tensor([[2.1332]], requires_grad=True)\n",
            "linear.bias Parameter containing:\n",
            "tensor([4.7799], requires_grad=True)\n",
            "------\n",
            "Epoch [150/200], Loss: 0.0296\n",
            "linear.weight Parameter containing:\n",
            "tensor([[2.1396]], requires_grad=True)\n",
            "linear.bias Parameter containing:\n",
            "tensor([4.7946], requires_grad=True)\n",
            "------\n",
            "Epoch [155/200], Loss: 0.0255\n",
            "linear.weight Parameter containing:\n",
            "tensor([[2.1451]], requires_grad=True)\n",
            "linear.bias Parameter containing:\n",
            "tensor([4.8077], requires_grad=True)\n",
            "------\n",
            "Epoch [160/200], Loss: 0.0222\n",
            "linear.weight Parameter containing:\n",
            "tensor([[2.1499]], requires_grad=True)\n",
            "linear.bias Parameter containing:\n",
            "tensor([4.8192], requires_grad=True)\n",
            "------\n",
            "Epoch [165/200], Loss: 0.0197\n",
            "linear.weight Parameter containing:\n",
            "tensor([[2.1540]], requires_grad=True)\n",
            "linear.bias Parameter containing:\n",
            "tensor([4.8294], requires_grad=True)\n",
            "------\n",
            "Epoch [170/200], Loss: 0.0177\n",
            "linear.weight Parameter containing:\n",
            "tensor([[2.1576]], requires_grad=True)\n",
            "linear.bias Parameter containing:\n",
            "tensor([4.8385], requires_grad=True)\n",
            "------\n",
            "Epoch [175/200], Loss: 0.0162\n",
            "linear.weight Parameter containing:\n",
            "tensor([[2.1606]], requires_grad=True)\n",
            "linear.bias Parameter containing:\n",
            "tensor([4.8465], requires_grad=True)\n",
            "------\n",
            "Epoch [180/200], Loss: 0.0150\n",
            "linear.weight Parameter containing:\n",
            "tensor([[2.1631]], requires_grad=True)\n",
            "linear.bias Parameter containing:\n",
            "tensor([4.8536], requires_grad=True)\n",
            "------\n",
            "Epoch [185/200], Loss: 0.0141\n",
            "linear.weight Parameter containing:\n",
            "tensor([[2.1653]], requires_grad=True)\n",
            "linear.bias Parameter containing:\n",
            "tensor([4.8600], requires_grad=True)\n",
            "------\n",
            "Epoch [190/200], Loss: 0.0134\n",
            "linear.weight Parameter containing:\n",
            "tensor([[2.1671]], requires_grad=True)\n",
            "linear.bias Parameter containing:\n",
            "tensor([4.8656], requires_grad=True)\n",
            "------\n",
            "Epoch [195/200], Loss: 0.0128\n",
            "linear.weight Parameter containing:\n",
            "tensor([[2.1686]], requires_grad=True)\n",
            "linear.bias Parameter containing:\n",
            "tensor([4.8707], requires_grad=True)\n",
            "------\n",
            "Epoch [200/200], Loss: 0.0123\n",
            "linear.weight Parameter containing:\n",
            "tensor([[2.1699]], requires_grad=True)\n",
            "linear.bias Parameter containing:\n",
            "tensor([4.8751], requires_grad=True)\n"
          ]
        }
      ],
      "source": [
        "# Convert numpy arrays to torch tensors\n",
        "inputs = torch.from_numpy(x_train)\n",
        "targets = torch.from_numpy(y_train)\n",
        "\n",
        "# Train the model\n",
        "for epoch in range(num_epochs):\n",
        "    # Forward pass\n",
        "    outputs = model.forward(inputs)\n",
        "    loss = criterion(outputs, targets)\n",
        "\n",
        "    # Backward and optimize\n",
        "    optimizer.zero_grad()  # clear the gradients, otherwise they will accumulate\n",
        "    loss.backward()  # compute the gradients\n",
        "    optimizer.step()  # update the weights\n",
        "\n",
        "    # print the loss every 5 epochs\n",
        "    if (epoch + 1) % 5 == 0:\n",
        "        print(\"------\")\n",
        "        print(\"Epoch [{}/{}], Loss: {:.4f}\".format(epoch + 1, num_epochs, loss.item()))\n",
        "        for name, param in model.named_parameters():\n",
        "            print(name, param)\n",
        "\n",
        "# Save the model checkpoint\n",
        "# torch.save(model.state_dict(), \"model.ckpt\")"
      ]
    },
    {
      "cell_type": "code",
      "execution_count": 50,
      "metadata": {
        "colab": {
          "base_uri": "https://localhost:8080/",
          "height": 433
        },
        "id": "CggHjoJRE1vf",
        "outputId": "b1090525-5d4a-49c8-abcc-0ec4b7ff3e6d"
      },
      "outputs": [
        {
          "name": "stdout",
          "output_type": "stream",
          "text": [
            "linear.weight Parameter containing:\n",
            "tensor([[2.1699]], requires_grad=True)\n",
            "linear.bias Parameter containing:\n",
            "tensor([4.8751], requires_grad=True)\n"
          ]
        },
        {
          "data": {
            "image/png": "[encoded data removed]",
            "text/plain": [
              "<Figure size 800x500 with 1 Axes>"
            ]
          },
          "metadata": {},
          "output_type": "display_data"
        }
      ],
      "source": [
        "# Plot the graph\n",
        "inputs = torch.from_numpy(x_train)\n",
        "\n",
        "predicted = model.forward(inputs).detach().numpy()\n",
        "for name, param in model.named_parameters():\n",
        "    print(name, param)\n",
        "plt.plot(x_train, y_train, \"ro\", label=\"Original data\")\n",
        "plt.plot(x_train, predicted, label=\"Fitted line\")\n",
        "plt.legend()\n",
        "plt.show()"
      ]
    }
  ],
  "metadata": {
    "colab": {
      "include_colab_link": true,
      "name": "linear_regression.ipynb",
      "provenance": []
    },
    "kernelspec": {
      "display_name": "Python 3",
      "name": "python3"
    },
    "language_info": {
      "codemirror_mode": {
        "name": "ipython",
        "version": 3
      },
      "file_extension": ".py",
      "mimetype": "text/x-python",
      "name": "python",
      "nbconvert_exporter": "python",
      "pygments_lexer": "ipython3",
      "version": "3.11.5"
    }
  },
  "nbformat": 4,
  "nbformat_minor": 0
}
