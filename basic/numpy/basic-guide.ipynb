{
 "cells": [
  {
   "cell_type": "markdown",
   "metadata": {},
   "source": [
    "# Numpy\n"
   ]
  },
  {
   "cell_type": "markdown",
   "metadata": {},
   "source": [
    "## Import\n"
   ]
  },
  {
   "cell_type": "code",
   "execution_count": 3,
   "metadata": {},
   "outputs": [],
   "source": [
    "import numpy as np"
   ]
  },
  {
   "cell_type": "markdown",
   "metadata": {},
   "source": [
    "## Create & Type\n"
   ]
  },
  {
   "cell_type": "code",
   "execution_count": 5,
   "metadata": {},
   "outputs": [
    {
     "name": "stdout",
     "output_type": "stream",
     "text": [
      "[0 1 2 3 4 5 6]\n",
      "(7,)\n",
      "[[1 2 3]\n",
      " [4 5 6]\n",
      " [7 8 9]]\n",
      "(3, 3)\n",
      "int64\n"
     ]
    }
   ],
   "source": [
    "# Create a numpy array\n",
    "np1 = np.array([0, 1, 2, 3, 4, 5, 6])\n",
    "print(np1)\n",
    "# Print the array\n",
    "print(np1.shape)\n",
    "\n",
    "np2 = np.array([[1, 2, 3], [4, 5, 6], [7, 8, 9]])\n",
    "print(np2)\n",
    "# Print the array\n",
    "print(np2.shape)\n",
    "\n",
    "# Create a numpy array\n",
    "my_list = [0, 1, 2, 3, 4, 5, 6]\n",
    "np3 = np.array(my_list)\n",
    "\n",
    "print(np3.dtype)"
   ]
  },
  {
   "cell_type": "markdown",
   "metadata": {},
   "source": [
    "## Common ways to create array\n"
   ]
  },
  {
   "cell_type": "code",
   "execution_count": 4,
   "metadata": {},
   "outputs": [
    {
     "name": "stdout",
     "output_type": "stream",
     "text": [
      "[0 1 2 3 4 5 6 7 8 9]\n",
      "[0 2 4 6 8]\n",
      "[0. 0. 0. 0. 0. 0. 0. 0. 0. 0.]\n",
      "[[0. 0. 0. 0. 0. 0. 0. 0. 0. 0.]\n",
      " [0. 0. 0. 0. 0. 0. 0. 0. 0. 0.]]\n",
      "[1. 1. 1. 1. 1. 1. 1. 1. 1. 1.]\n",
      "[[1. 1. 1. 1. 1. 1. 1. 1. 1. 1.]\n",
      " [1. 1. 1. 1. 1. 1. 1. 1. 1. 1.]]\n",
      "[6 6 6 6 6 6 6 6 6 6]\n",
      "[[6 6 6 6 6 6 6 6 6 6]\n",
      " [6 6 6 6 6 6 6 6 6 6]]\n",
      "[[1. 0. 0. 0.]\n",
      " [0. 1. 0. 0.]\n",
      " [0. 0. 1. 0.]\n",
      " [0. 0. 0. 1.]]\n",
      "[[1. 0. 0. 0.]\n",
      " [0. 1. 0. 0.]\n",
      " [0. 0. 1. 0.]\n",
      " [0. 0. 0. 1.]]\n"
     ]
    }
   ],
   "source": [
    "print(np.arange(10))\n",
    "print(np.arange(0, 10, 2))\n",
    "\n",
    "print(np.zeros(10))\n",
    "print(np.zeros((2, 10)))\n",
    "\n",
    "print(np.ones(10))\n",
    "print(np.ones((2, 10)))\n",
    "\n",
    "print(np.full((10), 6))\n",
    "print(np.full((2, 10), 6))\n",
    "\n",
    "print(np.eye(4))\n",
    "print(np.eye(4, 4))"
   ]
  },
  {
   "cell_type": "code",
   "execution_count": 5,
   "metadata": {},
   "outputs": [
    {
     "name": "stdout",
     "output_type": "stream",
     "text": [
      "[[0.49144413 0.83309898 0.43511712 0.52119927 0.78138097 0.56490614\n",
      "  0.59144784 0.19666204 0.9826779  0.74036531]\n",
      " [0.42224613 0.80597148 0.30966746 0.94726201 0.49971547 0.83441023\n",
      "  0.77562981 0.69687791 0.44572541 0.4180176 ]]\n",
      "[[2 3 0 7 6 2 7 1 4 8]\n",
      " [7 5 5 6 1 4 6 1 8 0]]\n"
     ]
    }
   ],
   "source": [
    "# random\n",
    "np1 = np.random.random((2, 10))\n",
    "print(np1)\n",
    "\n",
    "np2 = np.random.randint(0, 10, (2, 10))\n",
    "print(np2)"
   ]
  },
  {
   "cell_type": "markdown",
   "metadata": {},
   "source": [
    "## Dimension\n"
   ]
  },
  {
   "cell_type": "code",
   "execution_count": 6,
   "metadata": {},
   "outputs": [
    {
     "name": "stdout",
     "output_type": "stream",
     "text": [
      "[0 1 8 2 5 4 7 4 5 3]\n",
      "1\n",
      "(10,)\n",
      "10\n",
      "8\n",
      "----------------\n",
      "[[4 7 9 0 2 9 1 0 9 3]\n",
      " [7 0 4 2 0 8 2 4 2 4]]\n",
      "2\n",
      "(2, 10)\n",
      "20\n",
      "8\n",
      "----------------\n",
      "[[[7 4 3 9]\n",
      "  [8 8 4 1]\n",
      "  [7 6 5 3]]\n",
      "\n",
      " [[4 4 6 7]\n",
      "  [6 9 3 9]\n",
      "  [1 9 0 0]]]\n",
      "3\n",
      "(2, 3, 4)\n",
      "24\n",
      "8\n"
     ]
    }
   ],
   "source": [
    "# ndim & shape & size & itemsize\n",
    "np1 = np.random.randint(0, 10, 10)\n",
    "print(np1)\n",
    "print(np1.ndim)\n",
    "print(np1.shape)\n",
    "print(np1.size)\n",
    "print(np1.itemsize)\n",
    "\n",
    "print(\"----------------\")\n",
    "np2 = np.random.randint(0, 10, (2, 10))\n",
    "print(np2)\n",
    "print(np2.ndim)\n",
    "print(np2.shape)\n",
    "print(np2.size)\n",
    "print(np2.itemsize)\n",
    "\n",
    "print(\"----------------\")\n",
    "np3 = np.random.randint(0, 10, (2, 3, 4))\n",
    "print(np3)\n",
    "print(np3.ndim)\n",
    "print(np3.shape)\n",
    "print(np3.size)\n",
    "print(np3.itemsize)"
   ]
  },
  {
   "cell_type": "code",
   "execution_count": 7,
   "metadata": {},
   "outputs": [
    {
     "name": "stdout",
     "output_type": "stream",
     "text": [
      "[3 9 7 4 5 0 9 9 1 9 5 5 1 4 2 1 1 8 8 1] (20,)\n",
      "----------------\n",
      "[[3 9 7 4 5 0 9 9 1 9]\n",
      " [5 5 1 4 2 1 1 8 8 1]] (2, 10)\n",
      "----------------\n",
      "[[[3 9 7 4 5]\n",
      "  [0 9 9 1 9]]\n",
      "\n",
      " [[5 5 1 4 2]\n",
      "  [1 1 8 8 1]]] (2, 2, 5)\n",
      "----------------\n",
      "[[3]\n",
      " [9]\n",
      " [7]\n",
      " [4]\n",
      " [5]\n",
      " [0]\n",
      " [9]\n",
      " [9]\n",
      " [1]\n",
      " [9]\n",
      " [5]\n",
      " [5]\n",
      " [1]\n",
      " [4]\n",
      " [2]\n",
      " [1]\n",
      " [1]\n",
      " [8]\n",
      " [8]\n",
      " [1]] (20, 1)\n",
      "----------------\n",
      "[[3 9 7 4 5 0 9 9 1 9 5 5 1 4 2 1 1 8 8 1]] (1, 20)\n",
      "----------------\n",
      "[3 9 7 4 5 0 9 9 1 9 5 5 1 4 2 1 1 8 8 1] (20,)\n",
      "----------------\n",
      "[3 9 7 4 5 0 9 9 1 9 5 5 1 4 2 1 1 8 8 1] (20,)\n"
     ]
    }
   ],
   "source": [
    "# reshape\n",
    "np1 = np.random.randint(0, 10, 20)\n",
    "print(np1, np1.shape)\n",
    "\n",
    "print(\"----------------\")\n",
    "np2 = np1.reshape(2, 10)\n",
    "print(np2, np2.shape)\n",
    "\n",
    "print(\"----------------\")\n",
    "np3 = np1.reshape(2, 2, 5)\n",
    "print(np3, np3.shape)\n",
    "\n",
    "# -1 means let numpy figure out the dimension size in that dimension\n",
    "print(\"----------------\")\n",
    "np4 = np3.reshape((-1, 1))\n",
    "print(np4, np4.shape)\n",
    "\n",
    "# -1 means let numpy figure out the dimension size in that dimension\n",
    "print(\"----------------\")\n",
    "np5 = np3.reshape((1, -1))\n",
    "print(np5, np5.shape)\n",
    "\n",
    "print(\"----------------\")\n",
    "np6 = np3.flatten()  # flatten() always returns a copy\n",
    "print(np6, np6.shape)\n",
    "\n",
    "print(\"----------------\")\n",
    "np7 = np3.ravel()  # ravel() returns a view if possible\n",
    "print(np7, np7.shape)"
   ]
  },
  {
   "cell_type": "markdown",
   "metadata": {},
   "source": [
    "## Slice\n"
   ]
  },
  {
   "cell_type": "code",
   "execution_count": 8,
   "metadata": {},
   "outputs": [
    {
     "name": "stdout",
     "output_type": "stream",
     "text": [
      "[0 1 2 3 4 5 6 7 8 9]\n",
      "4\n",
      "[0 1 2 3]\n",
      "[0 2 4 6 8]\n"
     ]
    }
   ],
   "source": [
    "# Slice in one dimension\n",
    "np1 = np.arange(10)\n",
    "print(np1)\n",
    "\n",
    "print(np1[4])\n",
    "print(np1[0:4])\n",
    "print(np1[0:10:2])"
   ]
  },
  {
   "cell_type": "code",
   "execution_count": 9,
   "metadata": {},
   "outputs": [
    {
     "name": "stdout",
     "output_type": "stream",
     "text": [
      "[[ 0  1  2  3  4  5]\n",
      " [ 6  7  8  9 10 11]\n",
      " [12 13 14 15 16 17]\n",
      " [18 19 20 21 22 23]]\n",
      "----------------\n",
      "[0 1 2 3 4 5]\n",
      "0\n",
      "----------------\n",
      "[[0 1 2 3 4 5]]\n",
      "[ 0  6 12 18]\n",
      "[[0 1 2]\n",
      " [6 7 8]]\n"
     ]
    }
   ],
   "source": [
    "# Slice in two dimension\n",
    "np2 = np.arange(24).reshape(4, 6)\n",
    "print(np2)\n",
    "\n",
    "print(\"----------------\")\n",
    "print(np2[0])\n",
    "print(np2[0, 0])\n",
    "\n",
    "print(\"----------------\")\n",
    "print(np2[0:1, :])\n",
    "print(np2[:, 0])\n",
    "print(np2[0:2, 0:3])"
   ]
  },
  {
   "cell_type": "markdown",
   "metadata": {},
   "source": [
    "## Bool Index\n"
   ]
  },
  {
   "cell_type": "code",
   "execution_count": 10,
   "metadata": {},
   "outputs": [
    {
     "name": "stdout",
     "output_type": "stream",
     "text": [
      "[[ 0  1  2  3  4  5]\n",
      " [ 6  7  8  9 10 11]\n",
      " [12 13 14 15 16 17]\n",
      " [18 19 20 21 22 23]]\n",
      "----------------\n",
      "[[ True  True  True  True  True  True]\n",
      " [ True  True  True  True False False]\n",
      " [False False False False False False]\n",
      " [False False False False False False]]\n",
      "----------------\n",
      "[0 1 2 3 4 5 6 7 8 9]\n",
      "----------------\n",
      "[ 0  2  4  6  8 10 12 14 16 18 20 22]\n",
      "----------------\n",
      "[]\n",
      "----------------\n",
      "[ 0  1  2  3  4 11 12 13 14 15 16 17 18 19 20 21 22 23]\n"
     ]
    }
   ],
   "source": [
    "np1 = np.arange(24).reshape(4, 6)\n",
    "print(np1)\n",
    "\n",
    "print(\"----------------\")\n",
    "np2 = np1 < 10\n",
    "print(np2)\n",
    "\n",
    "print(\"----------------\")\n",
    "np3 = np1[np1 < 10]\n",
    "print(np3)\n",
    "\n",
    "print(\"----------------\")\n",
    "np4 = np1[np1 % 2 == 0]\n",
    "print(np4)\n",
    "\n",
    "print(\"----------------\")\n",
    "np5 = np1[(np1 < 5) & (np1 > 10)]\n",
    "print(np5)\n",
    "\n",
    "print(\"----------------\")\n",
    "np6 = np1[(np1 < 5) | (np1 > 10)]\n",
    "print(np6)"
   ]
  },
  {
   "cell_type": "markdown",
   "metadata": {},
   "source": [
    "## Value Update\n"
   ]
  },
  {
   "cell_type": "code",
   "execution_count": 11,
   "metadata": {},
   "outputs": [
    {
     "name": "stdout",
     "output_type": "stream",
     "text": [
      "[[ 0  1  2  3  4  5]\n",
      " [ 6  7  8  9 10 11]\n",
      " [12 13 14 15 16 17]\n",
      " [18 19 20 21 22 23]]\n",
      "----------------\n",
      "[[100 100 100 100 100 100]\n",
      " [  6   7   8   9  10  11]\n",
      " [ 12  13  14  15  16  17]\n",
      " [ 18  19  20  21  22  23]]\n",
      "----------------\n",
      "[[100 100 100 100 100 100]\n",
      " [  0   0   0   0  10  11]\n",
      " [ 12  13  14  15  16  17]\n",
      " [ 18  19  20  21  22  23]]\n",
      "----------------\n",
      "[[0 0 0 0 0 0]\n",
      " [1 1 1 1 1 1]\n",
      " [1 1 1 1 1 1]\n",
      " [1 1 1 0 0 0]]\n"
     ]
    }
   ],
   "source": [
    "np1 = np.arange(24).reshape(4, 6)\n",
    "print(np1)\n",
    "\n",
    "print(\"----------------\")\n",
    "np1[0] = 100\n",
    "print(np1)\n",
    "\n",
    "print(\"----------------\")\n",
    "np1[np1 < 10] = 0\n",
    "print(np1)\n",
    "\n",
    "print(\"----------------\")\n",
    "np2 = np.where(np1 > 20, 0, 1)\n",
    "print(np2)"
   ]
  },
  {
   "cell_type": "markdown",
   "metadata": {},
   "source": [
    "## Broadcast\n"
   ]
  },
  {
   "cell_type": "code",
   "execution_count": 12,
   "metadata": {},
   "outputs": [
    {
     "name": "stdout",
     "output_type": "stream",
     "text": [
      "[[ 0  1  2  3  4  5]\n",
      " [ 6  7  8  9 10 11]\n",
      " [12 13 14 15 16 17]\n",
      " [18 19 20 21 22 23]]\n",
      "----------------\n",
      "[[10 11 12 13 14 15]\n",
      " [16 17 18 19 20 21]\n",
      " [22 23 24 25 26 27]\n",
      " [28 29 30 31 32 33]]\n",
      "----------------\n",
      "[[  0  10  20  30  40  50]\n",
      " [ 60  70  80  90 100 110]\n",
      " [120 130 140 150 160 170]\n",
      " [180 190 200 210 220 230]]\n"
     ]
    }
   ],
   "source": [
    "# array and number\n",
    "np1 = np.arange(24).reshape(4, 6)\n",
    "print(np1)\n",
    "\n",
    "print(\"----------------\")\n",
    "np2 = np1 + 10\n",
    "print(np2)\n",
    "\n",
    "print(\"----------------\")\n",
    "np3 = np1 * 10\n",
    "print(np3)"
   ]
  },
  {
   "cell_type": "code",
   "execution_count": 13,
   "metadata": {},
   "outputs": [
    {
     "name": "stdout",
     "output_type": "stream",
     "text": [
      "[[ 0  1  2  3  4  5]\n",
      " [ 6  7  8  9 10 11]\n",
      " [12 13 14 15 16 17]\n",
      " [18 19 20 21 22 23]]\n",
      "----------------\n",
      "[[ 0  2  4  6  8 10]\n",
      " [12 14 16 18 20 22]\n",
      " [24 26 28 30 32 34]\n",
      " [36 38 40 42 44 46]]\n",
      "----------------\n",
      "[[0]\n",
      " [1]\n",
      " [2]\n",
      " [3]]\n",
      "[[ 0  1  2  3  4  5]\n",
      " [ 7  8  9 10 11 12]\n",
      " [14 15 16 17 18 19]\n",
      " [21 22 23 24 25 26]]\n",
      "----------------\n",
      "[0 1 2 3 4 5]\n",
      "[[ 0  2  4  6  8 10]\n",
      " [ 6  8 10 12 14 16]\n",
      " [12 14 16 18 20 22]\n",
      " [18 20 22 24 26 28]]\n"
     ]
    }
   ],
   "source": [
    "# array and array\n",
    "np1 = np.arange(24).reshape(4, 6)\n",
    "print(np1)\n",
    "\n",
    "# shape must be the same\n",
    "print(\"----------------\")\n",
    "np2 = np.arange(24).reshape(4, 6)\n",
    "print(np1 + np2)\n",
    "\n",
    "# row is the same\n",
    "print(\"----------------\")\n",
    "np3 = np.arange(4).reshape(-1, 1)\n",
    "print(np3)\n",
    "print(np1 + np3)\n",
    "\n",
    "# column is the same\n",
    "print(\"----------------\")\n",
    "np4 = np.arange(6)\n",
    "print(np4)\n",
    "print(np1 + np4)"
   ]
  },
  {
   "cell_type": "markdown",
   "metadata": {},
   "source": [
    "## Arrays Concatenate\n"
   ]
  },
  {
   "cell_type": "code",
   "execution_count": 14,
   "metadata": {},
   "outputs": [
    {
     "name": "stdout",
     "output_type": "stream",
     "text": [
      "[[ 0  1  2  3  4  5]\n",
      " [ 6  7  8  9 10 11]\n",
      " [12 13 14 15 16 17]\n",
      " [18 19 20 21 22 23]]\n",
      "[[ 0  1  2  3  4  5]\n",
      " [ 6  7  8  9 10 11]]\n",
      "[[ 0  1  2  3  4  5]\n",
      " [ 6  7  8  9 10 11]\n",
      " [12 13 14 15 16 17]\n",
      " [18 19 20 21 22 23]\n",
      " [ 0  1  2  3  4  5]\n",
      " [ 6  7  8  9 10 11]]\n",
      "----------------\n",
      "[[ 0  1  2  3  4  5]\n",
      " [ 6  7  8  9 10 11]\n",
      " [12 13 14 15 16 17]\n",
      " [18 19 20 21 22 23]]\n",
      "[[ 0  1  2]\n",
      " [ 3  4  5]\n",
      " [ 6  7  8]\n",
      " [ 9 10 11]]\n",
      "[[ 0  1  2  3  4  5  0  1  2]\n",
      " [ 6  7  8  9 10 11  3  4  5]\n",
      " [12 13 14 15 16 17  6  7  8]\n",
      " [18 19 20 21 22 23  9 10 11]]\n"
     ]
    }
   ],
   "source": [
    "# row\n",
    "np1 = np.arange(24).reshape(4, 6)\n",
    "print(np1)\n",
    "np2 = np.arange(12).reshape(-1, 6)\n",
    "print(np2)\n",
    "\n",
    "np3 = np.vstack((np1, np2))\n",
    "print(np3)\n",
    "\n",
    "# column\n",
    "print(\"----------------\")\n",
    "np4 = np.arange(24).reshape(4, 6)\n",
    "print(np4)\n",
    "np5 = np.arange(12).reshape(4, -1)\n",
    "print(np5)\n",
    "\n",
    "np6 = np.hstack((np4, np5))\n",
    "print(np6)"
   ]
  },
  {
   "cell_type": "code",
   "execution_count": 15,
   "metadata": {},
   "outputs": [
    {
     "name": "stdout",
     "output_type": "stream",
     "text": [
      "[[ 0  1  2  3  4  5]\n",
      " [ 6  7  8  9 10 11]\n",
      " [12 13 14 15 16 17]\n",
      " [18 19 20 21 22 23]]\n",
      "[[ 0  1  2]\n",
      " [ 3  4  5]\n",
      " [ 6  7  8]\n",
      " [ 9 10 11]]\n",
      "[[ 0  1  2  3  4  5  0  1  2]\n",
      " [ 6  7  8  9 10 11  3  4  5]\n",
      " [12 13 14 15 16 17  6  7  8]\n",
      " [18 19 20 21 22 23  9 10 11]]\n",
      "----------------\n",
      "[[ 0  1  2  3  4  5]\n",
      " [ 6  7  8  9 10 11]\n",
      " [12 13 14 15 16 17]\n",
      " [18 19 20 21 22 23]]\n",
      "[[ 0  1  2  3  4  5]\n",
      " [ 6  7  8  9 10 11]]\n",
      "[[ 0  1  2  3  4  5]\n",
      " [ 6  7  8  9 10 11]\n",
      " [12 13 14 15 16 17]\n",
      " [18 19 20 21 22 23]\n",
      " [ 0  1  2  3  4  5]\n",
      " [ 6  7  8  9 10 11]]\n",
      "----------------\n",
      "[ 0  1  2  3  4  5  6  7  8  9 10 11 12 13 14 15 16 17 18 19 20 21 22 23\n",
      "  0  1  2  3  4  5  6  7  8  9 10 11]\n"
     ]
    }
   ],
   "source": [
    "# concatenate\n",
    "\n",
    "# column\n",
    "np1 = np.arange(24).reshape(4, 6)\n",
    "print(np1)\n",
    "np2 = np.arange(12).reshape(4, -1)\n",
    "print(np2)\n",
    "\n",
    "np3 = np.concatenate((np1, np2), axis=1)\n",
    "print(np3)\n",
    "\n",
    "# row\n",
    "print(\"----------------\")\n",
    "np4 = np.arange(24).reshape(4, 6)\n",
    "print(np4)\n",
    "np5 = np.arange(12).reshape(-1, 6)\n",
    "print(np5)\n",
    "\n",
    "np6 = np.concatenate((np4, np5), axis=0)\n",
    "print(np6)\n",
    "\n",
    "# flatten\n",
    "print(\"----------------\")\n",
    "np7 = np.concatenate((np4, np5), axis=None)\n",
    "print(np7)"
   ]
  },
  {
   "cell_type": "markdown",
   "metadata": {},
   "source": [
    "## Array Split\n"
   ]
  },
  {
   "cell_type": "code",
   "execution_count": 16,
   "metadata": {},
   "outputs": [
    {
     "name": "stdout",
     "output_type": "stream",
     "text": [
      "[[ 0  1  2  3  4  5]\n",
      " [ 6  7  8  9 10 11]\n",
      " [12 13 14 15 16 17]\n",
      " [18 19 20 21 22 23]]\n",
      "----------------\n",
      "[[ 0  1  2  3  4  5]\n",
      " [ 6  7  8  9 10 11]] [[12 13 14 15 16 17]\n",
      " [18 19 20 21 22 23]]\n",
      "----------------\n",
      "[[0 1 2 3 4 5]] [[ 6  7  8  9 10 11]] [[12 13 14 15 16 17]] [[18 19 20 21 22 23]]\n",
      "----------------\n",
      "[[ 0  1  2]\n",
      " [ 6  7  8]\n",
      " [12 13 14]\n",
      " [18 19 20]] [[ 3  4  5]\n",
      " [ 9 10 11]\n",
      " [15 16 17]\n",
      " [21 22 23]]\n",
      "----------------\n",
      "[[ 0  1]\n",
      " [ 6  7]\n",
      " [12 13]\n",
      " [18 19]] [[ 2  3]\n",
      " [ 8  9]\n",
      " [14 15]\n",
      " [20 21]] [[ 4  5]\n",
      " [10 11]\n",
      " [16 17]\n",
      " [22 23]]\n"
     ]
    }
   ],
   "source": [
    "np1 = np.arange(24).reshape(4, 6)\n",
    "print(np1)\n",
    "\n",
    "print(\"----------------\")\n",
    "v1, v2 = np.vsplit(np1, 2)\n",
    "print(v1, v2)\n",
    "\n",
    "print(\"----------------\")\n",
    "v1, v2, v3, v4 = np.vsplit(np1, 4)\n",
    "print(v1, v2, v3, v4)\n",
    "\n",
    "print(\"----------------\")\n",
    "h1, h2 = np.hsplit(np1, 2)\n",
    "print(h1, h2)\n",
    "\n",
    "print(\"----------------\")\n",
    "h1, h2, h3 = np.hsplit(np1, 3)\n",
    "print(h1, h2, h3)"
   ]
  },
  {
   "cell_type": "code",
   "execution_count": 17,
   "metadata": {},
   "outputs": [
    {
     "name": "stdout",
     "output_type": "stream",
     "text": [
      "[[ 0  1  2  3  4  5]\n",
      " [ 6  7  8  9 10 11]\n",
      " [12 13 14 15 16 17]\n",
      " [18 19 20 21 22 23]]\n",
      "----------------\n",
      "[[ 0  1  2  3  4  5]\n",
      " [ 6  7  8  9 10 11]] [[12 13 14 15 16 17]\n",
      " [18 19 20 21 22 23]]\n",
      "----------------\n",
      "[[ 0  1]\n",
      " [ 6  7]\n",
      " [12 13]\n",
      " [18 19]] [[ 2  3]\n",
      " [ 8  9]\n",
      " [14 15]\n",
      " [20 21]] [[ 4  5]\n",
      " [10 11]\n",
      " [16 17]\n",
      " [22 23]]\n"
     ]
    }
   ],
   "source": [
    "# array_split\n",
    "np1 = np.arange(24).reshape(4, 6)\n",
    "print(np1)\n",
    "\n",
    "print(\"----------------\")\n",
    "v1, v2 = np.array_split(np1, 2, axis=0)\n",
    "print(v1, v2)\n",
    "\n",
    "print(\"----------------\")\n",
    "v1, v2, v3 = np.array_split(np1, 3, axis=1)\n",
    "print(v1, v2, v3)"
   ]
  },
  {
   "cell_type": "markdown",
   "metadata": {},
   "source": [
    "## Array Transpose\n"
   ]
  },
  {
   "cell_type": "code",
   "execution_count": 18,
   "metadata": {},
   "outputs": [
    {
     "name": "stdout",
     "output_type": "stream",
     "text": [
      "[[ 0  1  2  3  4  5]\n",
      " [ 6  7  8  9 10 11]\n",
      " [12 13 14 15 16 17]\n",
      " [18 19 20 21 22 23]]\n",
      "----------------\n",
      "[[ 0  6 12 18]\n",
      " [ 1  7 13 19]\n",
      " [ 2  8 14 20]\n",
      " [ 3  9 15 21]\n",
      " [ 4 10 16 22]\n",
      " [ 5 11 17 23]]\n",
      "----------------\n",
      "[[ 0  6 12 18]\n",
      " [ 1  7 13 19]\n",
      " [ 2  8 14 20]\n",
      " [ 3  9 15 21]\n",
      " [ 4 10 16 22]\n",
      " [ 5 11 17 23]]\n",
      "----------------\n",
      "[[  55  145  235  325]\n",
      " [ 145  451  757 1063]\n",
      " [ 235  757 1279 1801]\n",
      " [ 325 1063 1801 2539]]\n"
     ]
    }
   ],
   "source": [
    "np1 = np.arange(24).reshape(4, 6)\n",
    "print(np1)\n",
    "\n",
    "print(\"----------------\")\n",
    "np2 = np1.T\n",
    "print(np2)\n",
    "\n",
    "print(\"----------------\")\n",
    "np3 = np1.transpose()\n",
    "print(np3)\n",
    "\n",
    "print(\"----------------\")\n",
    "np4 = np1.dot(np2)\n",
    "print(np4)"
   ]
  },
  {
   "cell_type": "markdown",
   "metadata": {},
   "source": [
    "## Array Copy\n"
   ]
  },
  {
   "cell_type": "code",
   "execution_count": 19,
   "metadata": {},
   "outputs": [
    {
     "name": "stdout",
     "output_type": "stream",
     "text": [
      "[[ 0  1  2  3  4  5]\n",
      " [ 6  7  8  9 10 11]\n",
      " [12 13 14 15 16 17]\n",
      " [18 19 20 21 22 23]]\n",
      "[[ 0  1  2  3  4  5]\n",
      " [ 6  7  8  9 10 11]\n",
      " [12 13 14 15 16 17]\n",
      " [18 19 20 21 22 23]]\n",
      "----------------\n",
      "[[ 1  1  2  3  4  5]\n",
      " [ 6  7  8  9 10 11]\n",
      " [12 13 14 15 16 17]\n",
      " [18 19 20 21 22 23]] [[ 1  1  2  3  4  5]\n",
      " [ 6  7  8  9 10 11]\n",
      " [12 13 14 15 16 17]\n",
      " [18 19 20 21 22 23]]\n"
     ]
    }
   ],
   "source": [
    "# no copy\n",
    "np1 = np.arange(24).reshape(4, 6)\n",
    "print(np1)\n",
    "np2 = np1\n",
    "print(np2)\n",
    "\n",
    "print(\"----------------\")\n",
    "np2[0, 0] = 1\n",
    "print(np1, np2)"
   ]
  },
  {
   "cell_type": "code",
   "execution_count": 20,
   "metadata": {},
   "outputs": [
    {
     "name": "stdout",
     "output_type": "stream",
     "text": [
      "[[ 0  1  2  3  4  5]\n",
      " [ 6  7  8  9 10 11]\n",
      " [12 13 14 15 16 17]\n",
      " [18 19 20 21 22 23]]\n",
      "[[ 0  1  2  3  4  5]\n",
      " [ 6  7  8  9 10 11]\n",
      " [12 13 14 15 16 17]\n",
      " [18 19 20 21 22 23]]\n",
      "----------------\n",
      "[[ 1  1  2  3  4  5]\n",
      " [ 6  7  8  9 10 11]\n",
      " [12 13 14 15 16 17]\n",
      " [18 19 20 21 22 23]] [[ 1  1  2  3  4  5]\n",
      " [ 6  7  8  9 10 11]\n",
      " [12 13 14 15 16 17]\n",
      " [18 19 20 21 22 23]]\n"
     ]
    }
   ],
   "source": [
    "# shallow copy\n",
    "np1 = np.arange(24).reshape(4, 6)\n",
    "print(np1)\n",
    "np2 = np1.view()\n",
    "print(np2)\n",
    "\n",
    "print(\"----------------\")\n",
    "np2[0, 0] = 1\n",
    "print(np1, np2)"
   ]
  },
  {
   "cell_type": "code",
   "execution_count": 21,
   "metadata": {},
   "outputs": [
    {
     "name": "stdout",
     "output_type": "stream",
     "text": [
      "[[ 0  1  2  3  4  5]\n",
      " [ 6  7  8  9 10 11]\n",
      " [12 13 14 15 16 17]\n",
      " [18 19 20 21 22 23]]\n",
      "[[ 0  1  2  3  4  5]\n",
      " [ 6  7  8  9 10 11]\n",
      " [12 13 14 15 16 17]\n",
      " [18 19 20 21 22 23]]\n",
      "----------------\n",
      "[[ 0  1  2  3  4  5]\n",
      " [ 6  7  8  9 10 11]\n",
      " [12 13 14 15 16 17]\n",
      " [18 19 20 21 22 23]] [[ 1  1  2  3  4  5]\n",
      " [ 6  7  8  9 10 11]\n",
      " [12 13 14 15 16 17]\n",
      " [18 19 20 21 22 23]]\n"
     ]
    }
   ],
   "source": [
    "# deep copy\n",
    "np1 = np.arange(24).reshape(4, 6)\n",
    "print(np1)\n",
    "np2 = np1.copy()\n",
    "print(np2)\n",
    "\n",
    "print(\"----------------\")\n",
    "np2[0, 0] = 1\n",
    "print(np1, np2)"
   ]
  },
  {
   "cell_type": "markdown",
   "metadata": {},
   "source": [
    "## CSV\n"
   ]
  },
  {
   "cell_type": "code",
   "execution_count": 22,
   "metadata": {},
   "outputs": [
    {
     "name": "stdout",
     "output_type": "stream",
     "text": [
      "[[ 0  1  2  3  4  5]\n",
      " [ 6  7  8  9 10 11]\n",
      " [12 13 14 15 16 17]\n",
      " [18 19 20 21 22 23]]\n",
      "----------------\n"
     ]
    }
   ],
   "source": [
    "np1 = np.arange(24).reshape(4, 6)\n",
    "print(np1)\n",
    "\n",
    "print(\"----------------\")\n",
    "np.savetxt(\n",
    "    \"np1.csv\",\n",
    "    np1,\n",
    "    fmt=\"%d\",\n",
    "    delimiter=\",\",\n",
    "    header=\"column1, column2, column3, column4, column5, column6\",\n",
    "    comments=\"\",\n",
    ")"
   ]
  },
  {
   "cell_type": "code",
   "execution_count": 23,
   "metadata": {},
   "outputs": [
    {
     "name": "stdout",
     "output_type": "stream",
     "text": [
      "[[ 0  1  2  3  4  5]\n",
      " [ 6  7  8  9 10 11]\n",
      " [12 13 14 15 16 17]\n",
      " [18 19 20 21 22 23]]\n"
     ]
    }
   ],
   "source": [
    "file = np.loadtxt(\"np1.csv\", dtype=np.int32, delimiter=\",\", skiprows=1)\n",
    "print(file)"
   ]
  },
  {
   "cell_type": "code",
   "execution_count": 24,
   "metadata": {},
   "outputs": [
    {
     "name": "stdout",
     "output_type": "stream",
     "text": [
      "[[ 0  1  2  3  4  5]\n",
      " [ 6  7  8  9 10 11]\n",
      " [12 13 14 15 16 17]\n",
      " [18 19 20 21 22 23]]\n",
      "----------------\n"
     ]
    }
   ],
   "source": [
    "np1 = np.arange(24).reshape(4, 6)\n",
    "print(np1)\n",
    "\n",
    "print(\"----------------\")\n",
    "np.save(\"np1\", np1)\n",
    "np.savez(\"np1\", np1)"
   ]
  },
  {
   "cell_type": "code",
   "execution_count": 25,
   "metadata": {},
   "outputs": [
    {
     "name": "stdout",
     "output_type": "stream",
     "text": [
      "[[ 0  1  2  3  4  5]\n",
      " [ 6  7  8  9 10 11]\n",
      " [12 13 14 15 16 17]\n",
      " [18 19 20 21 22 23]]\n"
     ]
    }
   ],
   "source": [
    "np1 = np.load(\"np1.npy\")\n",
    "print(np1)"
   ]
  },
  {
   "cell_type": "markdown",
   "metadata": {},
   "source": [
    "## Handle Empty Value\n"
   ]
  },
  {
   "cell_type": "code",
   "execution_count": 26,
   "metadata": {},
   "outputs": [
    {
     "name": "stdout",
     "output_type": "stream",
     "text": [
      "[[ 0  1  2  3  4  5]\n",
      " [ 6  7  8  9 10 11]\n",
      " [12 13 14 15 16 17]\n",
      " [18 19 20 21 22 23]]\n",
      "----------------\n",
      "1.0\n",
      "False\n",
      "True\n",
      "nan\n"
     ]
    }
   ],
   "source": [
    "np1 = np.arange(24).reshape(4, 6)\n",
    "print(np1)\n",
    "\n",
    "print(\"----------------\")\n",
    "np1 = np1.astype(float)\n",
    "print(np1[0, 1])\n",
    "np1[0, 1] = np.NaN\n",
    "\n",
    "print(\n",
    "    np1[0, 1] == np.NaN\n",
    ")  # False, because NaN is not equal to anything, including itself\n",
    "print(np.isnan(np1[0, 1]))\n",
    "print(np1[0, 1] * 2)  # NaN, because any operation with NaN will result in NaN"
   ]
  },
  {
   "cell_type": "code",
   "execution_count": 27,
   "metadata": {},
   "outputs": [
    {
     "name": "stdout",
     "output_type": "stream",
     "text": [
      "[[nan nan nan nan nan nan]\n",
      " [ 0.  1.  2.  3.  4.  5.]\n",
      " [ 6.  7.  8. nan 10. 11.]\n",
      " [12. nan 14. 15. 16. 17.]\n",
      " [18. 19. 20. 21. 22. 23.]]\n"
     ]
    }
   ],
   "source": [
    "# When reading from a file, you can use the following code to convert empty strings to NaN\n",
    "scores = np.genfromtxt(\n",
    "    \"scores.csv\", delimiter=\",\", missing_values=\"\", filling_values=\"nan\"\n",
    ")\n",
    "print(scores)\n",
    "scores = scores.astype(float)"
   ]
  },
  {
   "cell_type": "markdown",
   "metadata": {},
   "source": [
    "## Random Module\n"
   ]
  },
  {
   "cell_type": "code",
   "execution_count": 28,
   "metadata": {},
   "outputs": [
    {
     "name": "stdout",
     "output_type": "stream",
     "text": [
      "0.417022004702574\n",
      "----------------\n",
      "[[7.20324493e-01 1.14374817e-04 3.02332573e-01]\n",
      " [1.46755891e-01 9.23385948e-02 1.86260211e-01]]\n",
      "----------------\n",
      "[[-1.10593508 -1.65451545 -2.3634686 ]\n",
      " [ 1.13534535 -1.01701414  0.63736181]]\n",
      "----------------\n",
      "[[2 4 7]\n",
      " [7 9 1]]\n",
      "----------------\n",
      "[[2 4 4]\n",
      " [4 4 2]]\n",
      "----------------\n",
      "[0 1 2 3 4 5 6 7 8 9]\n",
      "[6 4 7 9 2 3 5 0 8 1]\n"
     ]
    }
   ],
   "source": [
    "np.random.seed(1)  # if you want the same random number, you can use the same seed\n",
    "np1 = np.random.rand()\n",
    "print(np1)\n",
    "\n",
    "print(\"----------------\")\n",
    "np2 = np.random.rand(2, 3)\n",
    "print(np2)\n",
    "\n",
    "print(\"----------------\")\n",
    "np3 = np.random.randn(2, 3)  # apply normal distribution to the random number\n",
    "print(np3)\n",
    "\n",
    "print(\"----------------\")\n",
    "np4 = np.random.randint(0, 10, (2, 3))\n",
    "print(np4)\n",
    "\n",
    "print(\"----------------\")\n",
    "data = [2, 4, 6, 8, 10]\n",
    "np5 = np.random.choice(data, (2, 3))  # randomly select from the data\n",
    "print(np5)\n",
    "\n",
    "print(\"----------------\")\n",
    "np6 = np.arange(10)\n",
    "print(np6)\n",
    "np.random.shuffle(np6)  # shuffle the data\n",
    "print(np6)"
   ]
  },
  {
   "cell_type": "markdown",
   "metadata": {},
   "source": [
    "## Axis\n"
   ]
  },
  {
   "cell_type": "code",
   "execution_count": 29,
   "metadata": {},
   "outputs": [
    {
     "name": "stdout",
     "output_type": "stream",
     "text": [
      "[[ 0  1  2  3  4  5]\n",
      " [ 6  7  8  9 10 11]\n",
      " [12 13 14 15 16 17]\n",
      " [18 19 20 21 22 23]]\n",
      "----------------\n",
      "[36 40 44 48 52 56]\n",
      "[ 15  51  87 123]\n",
      "----------------\n",
      "[18 19 20 21 22 23]\n",
      "[ 5 11 17 23]\n",
      "----------------\n",
      "[[ 6  7  8  9 10 11]\n",
      " [12 13 14 15 16 17]\n",
      " [18 19 20 21 22 23]]\n",
      "[[ 0  2  3  4  5]\n",
      " [ 6  8  9 10 11]\n",
      " [12 14 15 16 17]\n",
      " [18 20 21 22 23]]\n"
     ]
    }
   ],
   "source": [
    "np1 = np.arange(24).reshape(4, 6)\n",
    "print(np1)\n",
    "\n",
    "print(\"----------------\")\n",
    "np2 = np1.sum(axis=0)\n",
    "print(np2)\n",
    "np3 = np1.sum(axis=1)\n",
    "print(np3)\n",
    "\n",
    "print(\"----------------\")\n",
    "np4 = np1.max(axis=0)\n",
    "print(np4)\n",
    "np5 = np1.max(axis=1)\n",
    "print(np5)\n",
    "\n",
    "print(\"----------------\")\n",
    "np6 = np.delete(np1, 0, axis=0)\n",
    "print(np6)\n",
    "\n",
    "np7 = np.delete(np1, 1, axis=1)\n",
    "print(np7)"
   ]
  },
  {
   "cell_type": "markdown",
   "metadata": {},
   "source": [
    "## Common Function\n"
   ]
  },
  {
   "cell_type": "markdown",
   "metadata": {},
   "source": [
    "[Common Function](https://juejin.cn/post/7001376518555303950?searchId=20240202025842E24ADE3219F7076CC15E#heading-13)\n"
   ]
  },
  {
   "cell_type": "code",
   "execution_count": 30,
   "metadata": {},
   "outputs": [
    {
     "name": "stdout",
     "output_type": "stream",
     "text": [
      "[[ 1.86131037  3.43308195 -1.76424242 -6.04898204]\n",
      " [-4.20740719 -7.15759729  5.66628945 -1.74922317]]\n",
      "----------------\n",
      "[[1.86131037 3.43308195 1.76424242 6.04898204]\n",
      " [4.20740719 7.15759729 5.66628945 1.74922317]]\n",
      "----------------\n",
      "[[1.36429849 1.85285778 1.32824788 2.45946784]\n",
      " [2.05119653 2.67536863 2.38039691 1.32258201]]\n",
      "----------------\n",
      "[[1.86131037 3.43308195 1.76424242 6.04898204]\n",
      " [4.20740719 7.15759729 5.66628945 1.74922317]]\n",
      "----------------\n",
      "[[0.62128074 1.23345838 0.56772137 1.79989   ]\n",
      " [1.43684659 1.96817435 1.73453449 0.55917179]]\n"
     ]
    }
   ],
   "source": [
    "np1 = np.random.uniform(-10, 10, (2, 4))\n",
    "print(np1)\n",
    "\n",
    "print(\"----------------\")\n",
    "np2 = np.abs(np1)\n",
    "print(np2)\n",
    "\n",
    "print(\"----------------\")\n",
    "np3 = np.sqrt(np2)\n",
    "print(np3)\n",
    "\n",
    "print(\"----------------\")\n",
    "np4 = np.square(np3)\n",
    "print(np4)\n",
    "\n",
    "print(\"----------------\")\n",
    "np5 = np.log(np2)\n",
    "print(np5)"
   ]
  },
  {
   "cell_type": "markdown",
   "metadata": {},
   "source": [
    "![](./two.png)\n"
   ]
  },
  {
   "cell_type": "markdown",
   "metadata": {},
   "source": [
    "![](./aggregate.png)\n"
   ]
  },
  {
   "cell_type": "code",
   "execution_count": 31,
   "metadata": {},
   "outputs": [
    {
     "name": "stdout",
     "output_type": "stream",
     "text": [
      "[[3 9 2 0]\n",
      " [4 9 2 7]]\n",
      "----------------\n",
      "False\n",
      "----------------\n",
      "True\n"
     ]
    }
   ],
   "source": [
    "# boolean\n",
    "np1 = np.random.randint(0, 10, (2, 4))\n",
    "print(np1)\n",
    "\n",
    "print(\"----------------\")\n",
    "res1 = np.all(np1 > 0)\n",
    "print(res1)\n",
    "\n",
    "print(\"----------------\")\n",
    "res2 = np.any(np1 > 0)\n",
    "print(res2)"
   ]
  },
  {
   "cell_type": "code",
   "execution_count": 32,
   "metadata": {},
   "outputs": [
    {
     "name": "stdout",
     "output_type": "stream",
     "text": [
      "[[5 8 9 5]\n",
      " [0 0 1 7]]\n",
      "----------------\n",
      "[[0 0 1 5]\n",
      " [5 8 9 7]]\n",
      "----------------\n",
      "[[5 5 8 9]\n",
      " [0 0 1 7]]\n",
      "----------------\n",
      "[[1 1 1 0]\n",
      " [0 0 0 1]]\n",
      "[[0 3 1 2]\n",
      " [0 1 2 3]]\n",
      "----------------\n",
      "[[9 8 5 5]\n",
      " [7 1 0 0]]\n"
     ]
    }
   ],
   "source": [
    "# sort\n",
    "np.random.seed(1)\n",
    "np1 = np.random.randint(0, 10, (2, 4))\n",
    "print(np1)\n",
    "\n",
    "print(\"----------------\")\n",
    "np2 = np.sort(np1, axis=0)  # return the sorted array\n",
    "print(np2)\n",
    "\n",
    "print(\"----------------\")\n",
    "np3 = np.sort(np1, axis=1)  # return the sorted array\n",
    "print(np3)\n",
    "\n",
    "print(\"----------------\")\n",
    "np4 = np.argsort(np1, axis=0)  # return the index of the sorted array\n",
    "print(np4)\n",
    "np5 = np.argsort(np1, axis=1)  # return the index of the sorted array\n",
    "print(np5)\n",
    "\n",
    "print(\"----------------\")\n",
    "np6 = -np.sort(-np1, axis=1)  # return the sorted array in descending order\n",
    "print(np6)"
   ]
  },
  {
   "cell_type": "code",
   "execution_count": 39,
   "metadata": {},
   "outputs": [
    {
     "name": "stdout",
     "output_type": "stream",
     "text": [
      "[[5 8 9 5 0 0 1 7 6 9]]\n",
      "----------------\n",
      "[5 8 9 5 0 0 1 7 6 9]\n",
      "----------------\n",
      "[[2]\n",
      " [4]\n",
      " [5]\n",
      " [2]\n",
      " [4]\n",
      " [2]\n",
      " [4]\n",
      " [7]\n",
      " [7]\n",
      " [9]]\n",
      "----------------\n",
      "[2 4 5 2 4 2 4 7 7 9]\n"
     ]
    }
   ],
   "source": [
    "np.random.seed(1)\n",
    "np1 = np.random.randint(0, 10, (1, 10))\n",
    "print(np1)\n",
    "\n",
    "print(\"----------------\")\n",
    "np2 = np.squeeze(np1, axis=0)\n",
    "print(np2)\n",
    "\n",
    "print(\"----------------\")\n",
    "np4 = np.random.randint(0, 10, (10, 1))\n",
    "print(np4)\n",
    "\n",
    "print(\"----------------\")\n",
    "np5 = np.squeeze(np4, axis=1)\n",
    "print(np5)"
   ]
  }
 ],
 "metadata": {
  "kernelspec": {
   "display_name": "base",
   "language": "python",
   "name": "python3"
  },
  "language_info": {
   "codemirror_mode": {
    "name": "ipython",
    "version": 3
   },
   "file_extension": ".py",
   "mimetype": "text/x-python",
   "name": "python",
   "nbconvert_exporter": "python",
   "pygments_lexer": "ipython3",
   "version": "3.11.5"
  }
 },
 "nbformat": 4,
 "nbformat_minor": 2
}
