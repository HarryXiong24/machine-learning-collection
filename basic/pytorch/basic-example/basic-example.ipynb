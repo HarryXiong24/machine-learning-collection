{
 "cells": [
  {
   "cell_type": "markdown",
   "metadata": {},
   "source": [
    "# PyTorch\n"
   ]
  },
  {
   "cell_type": "code",
   "execution_count": 65,
   "metadata": {},
   "outputs": [],
   "source": [
    "import torch\n",
    "from torch import nn\n",
    "from torch.utils.data import DataLoader\n",
    "from torchvision import datasets\n",
    "from torchvision.transforms import ToTensor\n",
    "\n",
    "import numpy as np"
   ]
  },
  {
   "cell_type": "markdown",
   "metadata": {},
   "source": [
    "## Basic\n"
   ]
  },
  {
   "cell_type": "code",
   "execution_count": 66,
   "metadata": {},
   "outputs": [
    {
     "name": "stdout",
     "output_type": "stream",
     "text": [
      "tensor([2, 2])\n",
      "tensor([2.3000, 2.2000], dtype=torch.float64)\n",
      "tensor([2.3000, 2.2000], dtype=torch.float64)\n",
      "tensor(2)\n",
      "2\n"
     ]
    }
   ],
   "source": [
    "a = torch.tensor([2, 2], dtype=int)\n",
    "print(a)\n",
    "\n",
    "b = torch.tensor([2.3, 2.2], dtype=float)\n",
    "print(b)\n",
    "\n",
    "b = torch.tensor([2.3, 2.2], dtype=torch.float64)\n",
    "print(b)\n",
    "\n",
    "print(a[0])\n",
    "print(a[0].item())"
   ]
  },
  {
   "cell_type": "code",
   "execution_count": 67,
   "metadata": {},
   "outputs": [
    {
     "name": "stdout",
     "output_type": "stream",
     "text": [
      "2 torch.Size([2, 3]) torch.Size([2, 3]) torch.int64\n"
     ]
    }
   ],
   "source": [
    "tensor = torch.tensor([[1, 2, 3], [4, 5, 6]])\n",
    "\n",
    "print(tensor.ndim, tensor.shape, tensor.size(), tensor.dtype)"
   ]
  },
  {
   "cell_type": "markdown",
   "metadata": {},
   "source": [
    "## Random\n"
   ]
  },
  {
   "cell_type": "code",
   "execution_count": 68,
   "metadata": {},
   "outputs": [
    {
     "name": "stdout",
     "output_type": "stream",
     "text": [
      "tensor([0, 1, 2, 3, 4, 5, 6, 7, 8, 9])\n",
      "tensor([0, 2, 4, 6, 8])\n",
      "tensor([0., 0., 0., 0., 0., 0., 0., 0., 0., 0.])\n",
      "tensor([[0., 0., 0., 0., 0., 0., 0., 0., 0., 0.],\n",
      "        [0., 0., 0., 0., 0., 0., 0., 0., 0., 0.]])\n",
      "tensor([1., 1., 1., 1., 1., 1., 1., 1., 1., 1.])\n",
      "tensor([[1., 1., 1., 1., 1., 1., 1., 1., 1., 1.],\n",
      "        [1., 1., 1., 1., 1., 1., 1., 1., 1., 1.]])\n",
      "tensor([[1., 0., 0., 0.],\n",
      "        [0., 1., 0., 0.],\n",
      "        [0., 0., 1., 0.],\n",
      "        [0., 0., 0., 1.]])\n",
      "tensor([[1., 0., 0., 0.],\n",
      "        [0., 1., 0., 0.],\n",
      "        [0., 0., 1., 0.],\n",
      "        [0., 0., 0., 1.]])\n"
     ]
    }
   ],
   "source": [
    "print(torch.arange(10))\n",
    "print(torch.arange(0, 10, 2))\n",
    "\n",
    "print(torch.zeros(10))\n",
    "print(torch.zeros((2, 10)))\n",
    "\n",
    "print(torch.ones(10))\n",
    "print(torch.ones((2, 10)))\n",
    "\n",
    "print(torch.eye(4))\n",
    "print(torch.eye(4, 4))"
   ]
  },
  {
   "cell_type": "code",
   "execution_count": 69,
   "metadata": {},
   "outputs": [
    {
     "name": "stdout",
     "output_type": "stream",
     "text": [
      "tensor([[0.3999, 0.1860, 0.2425, 0.3464],\n",
      "        [0.7281, 0.3721, 0.0709, 0.0387],\n",
      "        [0.6604, 0.8347, 0.9147, 0.6240]])\n",
      "----------------\n",
      "tensor([[1.3843, 2.0249, 0.7583],\n",
      "        [0.7585, 0.3194, 0.6708]])\n",
      "----------------\n",
      "tensor([[5, 6, 7],\n",
      "        [4, 1, 5]])\n",
      "----------------\n",
      "tensor([[0.7962, 0.9661, 0.6524],\n",
      "        [0.4053, 0.9883, 0.7275]], dtype=torch.float64)\n"
     ]
    }
   ],
   "source": [
    "np1 = torch.rand(3, 4)  # random number between 0 and 1\n",
    "print(np1)\n",
    "\n",
    "print(\"----------------\")\n",
    "np2 = torch.randn(2, 3)  # apply normal distribution to the random number\n",
    "print(np2)\n",
    "\n",
    "print(\"----------------\")\n",
    "np3 = torch.randint(0, 10, (2, 3))\n",
    "print(np3)\n",
    "\n",
    "print(\"----------------\")\n",
    "array = torch.tensor([[1, 2, 3], [4, 5, 6]])\n",
    "np5 = torch.rand_like(array, dtype=float)\n",
    "print(np5)"
   ]
  },
  {
   "cell_type": "markdown",
   "metadata": {},
   "source": [
    "## Reshape\n"
   ]
  },
  {
   "cell_type": "code",
   "execution_count": 70,
   "metadata": {},
   "outputs": [
    {
     "name": "stdout",
     "output_type": "stream",
     "text": [
      "tensor([[1, 2],\n",
      "        [3, 4],\n",
      "        [5, 6]])\n",
      "tensor([[1, 2],\n",
      "        [3, 4],\n",
      "        [5, 6]])\n"
     ]
    }
   ],
   "source": [
    "tensor = torch.tensor([[1, 2, 3], [4, 5, 6]])\n",
    "tensor1 = tensor.reshape(3, 2)\n",
    "tensor2 = tensor.view(3, 2)\n",
    "print(tensor1)\n",
    "print(tensor2)"
   ]
  },
  {
   "cell_type": "markdown",
   "metadata": {},
   "source": [
    "## Numpy & PyTorch Convertion\n"
   ]
  },
  {
   "cell_type": "code",
   "execution_count": 71,
   "metadata": {},
   "outputs": [
    {
     "name": "stdout",
     "output_type": "stream",
     "text": [
      "[[1 2 3]\n",
      " [4 5 6]]\n",
      "tensor([[1, 2, 3],\n",
      "        [4, 5, 6]])\n"
     ]
    }
   ],
   "source": [
    "tensor = torch.tensor([[1, 2, 3], [4, 5, 6]])\n",
    "\n",
    "np1 = np.array(tensor)\n",
    "print(np1)\n",
    "\n",
    "tensor1 = torch.tensor(np1)\n",
    "print(tensor1)"
   ]
  },
  {
   "cell_type": "markdown",
   "metadata": {},
   "source": [
    "## Calculation\n"
   ]
  },
  {
   "cell_type": "code",
   "execution_count": 72,
   "metadata": {},
   "outputs": [
    {
     "name": "stdout",
     "output_type": "stream",
     "text": [
      "tensor([[ 8, 10, 12],\n",
      "        [14, 16, 18]])\n",
      "tensor([[ 8., 10., 12.],\n",
      "        [14., 16., 18.]])\n",
      "result tensor([[ 8., 10., 12.],\n",
      "        [14., 16., 18.]])\n",
      "----------------\n",
      "tensor([[ 8, 10, 12],\n",
      "        [14, 16, 18]])\n",
      "----------------\n",
      "tensor([[-6, -6, -6],\n",
      "        [-6, -6, -6]])\n",
      "tensor([[-6, -6, -6],\n",
      "        [-6, -6, -6]])\n",
      "----------------\n",
      "tensor([[ 7, 16, 27],\n",
      "        [40, 55, 72]])\n",
      "tensor([[ 7, 16, 27],\n",
      "        [40, 55, 72]])\n",
      "----------------\n",
      "tensor([[0.1429, 0.2500, 0.3333],\n",
      "        [0.4000, 0.4545, 0.5000]])\n",
      "tensor([[0.1429, 0.2500, 0.3333],\n",
      "        [0.4000, 0.4545, 0.5000]])\n",
      "----------------\n",
      "tensor([[ 58.,  64.],\n",
      "        [139., 154.]], dtype=torch.float64)\n",
      "tensor([[ 58., 139.],\n",
      "        [ 64., 154.]], dtype=torch.float64)\n",
      "tensor(53., dtype=torch.float64)\n",
      "----------------\n",
      "tensor(21., dtype=torch.float64)\n",
      "tensor(1., dtype=torch.float64)\n",
      "tensor(6., dtype=torch.float64)\n",
      "tensor(3.5000, dtype=torch.float64)\n",
      "tensor(5)\n",
      "tensor(0)\n"
     ]
    }
   ],
   "source": [
    "tensor1 = torch.tensor([[1, 2, 3], [4, 5, 6]])\n",
    "tensor2 = torch.tensor([[7, 8, 9], [10, 11, 12]])\n",
    "result = torch.tensor([])\n",
    "\n",
    "print(tensor1 + tensor2)\n",
    "print(torch.add(tensor1, tensor2, out=result))\n",
    "print(\"result\", result)\n",
    "\n",
    "print(\"----------------\")\n",
    "tensor3 = torch.tensor([[1, 2, 3], [4, 5, 6]])\n",
    "tensor3.add_(tensor2)  # inplace operation\n",
    "print(tensor3)\n",
    "\n",
    "print(\"----------------\")\n",
    "print(tensor1 - tensor2)\n",
    "print(torch.sub(tensor1, tensor2))\n",
    "\n",
    "print(\"----------------\")\n",
    "print(tensor1 * tensor2)\n",
    "print(torch.mul(tensor1, tensor2))\n",
    "\n",
    "print(\"----------------\")\n",
    "print(tensor1 / tensor2)\n",
    "print(torch.div(tensor1, tensor2))\n",
    "\n",
    "print(\"----------------\")\n",
    "tensor4 = torch.tensor([[1, 2, 3], [4, 5, 6]], dtype=float)\n",
    "tensor5 = torch.tensor([[7, 8], [9, 10], [11, 12]], dtype=float)\n",
    "tensor6 = torch.matmul(tensor4, tensor5)  # matrix multiplication\n",
    "print(tensor6)\n",
    "print(tensor6.T)\n",
    "tensor4 = torch.tensor([[1, 2, 3], [4, 5, 6]], dtype=float)\n",
    "tensor5 = torch.tensor([[7, 8, 10]], dtype=float)\n",
    "tensor7 = torch.dot(tensor4[0], tensor5[0])  # dot is only for 1D tensor\n",
    "print(tensor7)\n",
    "\n",
    "print(\"----------------\")\n",
    "print(torch.sum(tensor4))\n",
    "print(torch.min(tensor4))\n",
    "print(torch.max(tensor4))\n",
    "print(torch.mean(tensor4, dtype=float))  # average\n",
    "print(torch.argmax(tensor4))  # index of maximum value\n",
    "print(torch.argmin(tensor4))  # index of minimum value"
   ]
  },
  {
   "cell_type": "markdown",
   "metadata": {},
   "source": [
    "## Gradient\n"
   ]
  },
  {
   "cell_type": "code",
   "execution_count": 73,
   "metadata": {},
   "outputs": [
    {
     "name": "stdout",
     "output_type": "stream",
     "text": [
      "tensor([[1, 2, 3],\n",
      "        [4, 5, 6]])\n",
      "tensor([[3., 3.],\n",
      "        [3., 3.]], grad_fn=<AddBackward0>)\n",
      "tensor([[27., 27.],\n",
      "        [27., 27.]], grad_fn=<MulBackward0>)\n",
      "tensor(27., grad_fn=<MeanBackward0>)\n",
      "None\n"
     ]
    }
   ],
   "source": [
    "x = torch.ones(2, 2, requires_grad=True)\n",
    "print(tensor)\n",
    "\n",
    "y = x + 2\n",
    "print(y)\n",
    "\n",
    "z = y * y * 3\n",
    "print(z)\n",
    "\n",
    "out = z.mean()\n",
    "print(out)\n",
    "\n",
    "out.backward()\n",
    "print(tensor.grad)"
   ]
  }
 ],
 "metadata": {
  "kernelspec": {
   "display_name": "base",
   "language": "python",
   "name": "python3"
  },
  "language_info": {
   "codemirror_mode": {
    "name": "ipython",
    "version": 3
   },
   "file_extension": ".py",
   "mimetype": "text/x-python",
   "name": "python",
   "nbconvert_exporter": "python",
   "pygments_lexer": "ipython3",
   "version": "3.11.5"
  }
 },
 "nbformat": 4,
 "nbformat_minor": 2
}
