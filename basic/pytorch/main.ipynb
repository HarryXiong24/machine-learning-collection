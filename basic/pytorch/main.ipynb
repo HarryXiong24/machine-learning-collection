{
 "cells": [
  {
   "cell_type": "markdown",
   "metadata": {},
   "source": [
    "# PyTorch\n"
   ]
  },
  {
   "cell_type": "code",
   "execution_count": 39,
   "metadata": {},
   "outputs": [],
   "source": [
    "import torch\n",
    "from torch import nn\n",
    "from torch.utils.data import DataLoader\n",
    "from torchvision import datasets\n",
    "from torchvision.transforms import ToTensor\n",
    "\n",
    "import numpy as np"
   ]
  },
  {
   "cell_type": "markdown",
   "metadata": {},
   "source": [
    "## Basic\n"
   ]
  },
  {
   "cell_type": "code",
   "execution_count": 40,
   "metadata": {},
   "outputs": [
    {
     "name": "stdout",
     "output_type": "stream",
     "text": [
      "tensor([2, 2])\n",
      "tensor([2.3000, 2.2000], dtype=torch.float64)\n",
      "tensor([2.3000, 2.2000], dtype=torch.float64)\n",
      "tensor(2)\n",
      "2\n"
     ]
    }
   ],
   "source": [
    "a = torch.tensor([2, 2], dtype=int)\n",
    "print(a)\n",
    "\n",
    "b = torch.tensor([2.3, 2.2], dtype=float)\n",
    "print(b)\n",
    "\n",
    "b = torch.tensor([2.3, 2.2], dtype=torch.float64)\n",
    "print(b)\n",
    "\n",
    "print(a[0])\n",
    "print(a[0].item())"
   ]
  },
  {
   "cell_type": "code",
   "execution_count": 41,
   "metadata": {},
   "outputs": [
    {
     "name": "stdout",
     "output_type": "stream",
     "text": [
      "2 torch.Size([2, 3]) torch.Size([2, 3]) torch.int64\n"
     ]
    }
   ],
   "source": [
    "tensor = torch.tensor([[1, 2, 3], [4, 5, 6]])\n",
    "\n",
    "print(tensor.ndim, tensor.shape, tensor.size(), tensor.dtype)"
   ]
  },
  {
   "cell_type": "markdown",
   "metadata": {},
   "source": [
    "## Random\n"
   ]
  },
  {
   "cell_type": "code",
   "execution_count": 42,
   "metadata": {},
   "outputs": [
    {
     "name": "stdout",
     "output_type": "stream",
     "text": [
      "tensor([0, 1, 2, 3, 4, 5, 6, 7, 8, 9])\n",
      "tensor([0, 2, 4, 6, 8])\n",
      "tensor([0., 0., 0., 0., 0., 0., 0., 0., 0., 0.])\n",
      "tensor([[0., 0., 0., 0., 0., 0., 0., 0., 0., 0.],\n",
      "        [0., 0., 0., 0., 0., 0., 0., 0., 0., 0.]])\n",
      "tensor([1., 1., 1., 1., 1., 1., 1., 1., 1., 1.])\n",
      "tensor([[1., 1., 1., 1., 1., 1., 1., 1., 1., 1.],\n",
      "        [1., 1., 1., 1., 1., 1., 1., 1., 1., 1.]])\n",
      "tensor([[1., 0., 0., 0.],\n",
      "        [0., 1., 0., 0.],\n",
      "        [0., 0., 1., 0.],\n",
      "        [0., 0., 0., 1.]])\n",
      "tensor([[1., 0., 0., 0.],\n",
      "        [0., 1., 0., 0.],\n",
      "        [0., 0., 1., 0.],\n",
      "        [0., 0., 0., 1.]])\n"
     ]
    }
   ],
   "source": [
    "print(torch.arange(10))\n",
    "print(torch.arange(0, 10, 2))\n",
    "\n",
    "print(torch.zeros(10))\n",
    "print(torch.zeros((2, 10)))\n",
    "\n",
    "print(torch.ones(10))\n",
    "print(torch.ones((2, 10)))\n",
    "\n",
    "print(torch.eye(4))\n",
    "print(torch.eye(4, 4))"
   ]
  },
  {
   "cell_type": "code",
   "execution_count": 43,
   "metadata": {},
   "outputs": [
    {
     "name": "stdout",
     "output_type": "stream",
     "text": [
      "tensor([[0.4707, 0.4484, 0.0124, 0.3219],\n",
      "        [0.1917, 0.3647, 0.9613, 0.2486],\n",
      "        [0.1576, 0.0975, 0.2882, 0.2892]])\n",
      "----------------\n",
      "tensor([[-0.9447,  2.0613,  0.6884],\n",
      "        [ 0.9965,  0.1748, -0.1849]])\n",
      "----------------\n",
      "tensor([[1, 1, 5],\n",
      "        [4, 4, 4]])\n",
      "----------------\n",
      "tensor([[0.3149, 0.9730, 0.2150],\n",
      "        [0.5886, 0.8337, 0.8688]], dtype=torch.float64)\n"
     ]
    }
   ],
   "source": [
    "np1 = torch.rand(3, 4)  # random number between 0 and 1\n",
    "print(np1)\n",
    "\n",
    "print(\"----------------\")\n",
    "np2 = torch.randn(2, 3)  # apply normal distribution to the random number\n",
    "print(np2)\n",
    "\n",
    "print(\"----------------\")\n",
    "np3 = torch.randint(0, 10, (2, 3))\n",
    "print(np3)\n",
    "\n",
    "print(\"----------------\")\n",
    "array = torch.tensor([[1, 2, 3], [4, 5, 6]])\n",
    "np5 = torch.rand_like(array, dtype=float)\n",
    "print(np5)"
   ]
  },
  {
   "cell_type": "markdown",
   "metadata": {},
   "source": [
    "## Reshape\n"
   ]
  },
  {
   "cell_type": "code",
   "execution_count": 44,
   "metadata": {},
   "outputs": [
    {
     "name": "stdout",
     "output_type": "stream",
     "text": [
      "tensor([[1, 2],\n",
      "        [3, 4],\n",
      "        [5, 6]])\n",
      "tensor([[1, 2],\n",
      "        [3, 4],\n",
      "        [5, 6]])\n"
     ]
    }
   ],
   "source": [
    "tensor = torch.tensor([[1, 2, 3], [4, 5, 6]])\n",
    "tensor1 = tensor.reshape(3, 2)\n",
    "tensor2 = tensor.view(3, 2)\n",
    "print(tensor1)\n",
    "print(tensor2)"
   ]
  },
  {
   "cell_type": "markdown",
   "metadata": {},
   "source": [
    "## Numpy & PyTorch Convertion\n"
   ]
  },
  {
   "cell_type": "code",
   "execution_count": 46,
   "metadata": {},
   "outputs": [
    {
     "name": "stdout",
     "output_type": "stream",
     "text": [
      "[[1 2 3]\n",
      " [4 5 6]]\n",
      "tensor([[1, 2, 3],\n",
      "        [4, 5, 6]])\n"
     ]
    }
   ],
   "source": [
    "tensor = torch.tensor([[1, 2, 3], [4, 5, 6]])\n",
    "\n",
    "np1 = np.array(tensor)\n",
    "print(np1)\n",
    "\n",
    "tensor1 = torch.tensor(np1)\n",
    "print(tensor1)"
   ]
  }
 ],
 "metadata": {
  "kernelspec": {
   "display_name": "base",
   "language": "python",
   "name": "python3"
  },
  "language_info": {
   "codemirror_mode": {
    "name": "ipython",
    "version": 3
   },
   "file_extension": ".py",
   "mimetype": "text/x-python",
   "name": "python",
   "nbconvert_exporter": "python",
   "pygments_lexer": "ipython3",
   "version": "3.11.5"
  }
 },
 "nbformat": 4,
 "nbformat_minor": 2
}
