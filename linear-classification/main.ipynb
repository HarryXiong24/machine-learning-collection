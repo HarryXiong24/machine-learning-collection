{
 "cells": [
  {
   "cell_type": "markdown",
   "metadata": {},
   "source": [
    "# Linear Classification"
   ]
  },
  {
   "cell_type": "markdown",
   "metadata": {},
   "source": [
    "It will show how to code a classifier from the ground up. "
   ]
  },
  {
   "cell_type": "code",
   "execution_count": 15,
   "metadata": {},
   "outputs": [],
   "source": [
    "import numpy as np\n",
    "import matplotlib.pyplot as plt\n",
    "import utils as ml\n",
    "\n",
    "np.random.seed(0)\n",
    "%matplotlib inline"
   ]
  },
  {
   "cell_type": "code",
   "execution_count": 16,
   "metadata": {},
   "outputs": [
    {
     "name": "stdout",
     "output_type": "stream",
     "text": [
      "(98, 2) (98,)\n",
      "[[4.94006 3.08192]\n",
      " [4.77382 3.28124]\n",
      " [4.62014 3.13876]\n",
      " [5.07744 3.66845]\n",
      " [5.41562 3.99428]\n",
      " [4.64515 3.47066]\n",
      " [5.01138 3.44916]\n",
      " [4.48141 2.99166]\n",
      " [4.91768 3.1954 ]\n",
      " [5.4583  3.72635]\n",
      " [4.82446 3.46218]\n",
      " [4.84613 3.04824]\n",
      " [4.32656 3.00986]\n",
      " [5.86822 4.01197]\n",
      " [5.7421  4.45807]\n",
      " [5.48325 3.95333]\n",
      " [5.18109 3.58471]\n",
      " [5.71465 3.85436]\n",
      " [5.14218 3.87093]\n",
      " [5.47797 3.45834]\n",
      " [5.16126 3.7525 ]\n",
      " [4.6496  3.69595]\n",
      " [5.15357 3.30083]\n",
      " [4.81424 3.46204]\n",
      " [5.00664 3.0246 ]\n",
      " [5.03297 3.49309]\n",
      " [5.27778 3.5955 ]\n",
      " [5.26724 3.49784]\n",
      " [4.71655 3.24348]\n",
      " [4.80914 3.11857]\n",
      " [5.48578 3.48978]\n",
      " [5.26128 4.10474]\n",
      " [5.5798  4.2166 ]\n",
      " [4.92166 3.11112]\n",
      " [5.05386 3.20267]\n",
      " [5.55847 3.55104]\n",
      " [4.9465  3.17626]\n",
      " [4.42455 3.05145]\n",
      " [5.15742 3.42311]\n",
      " [5.0077  3.55858]\n",
      " [4.52249 2.32445]\n",
      " [4.47849 3.2489 ]\n",
      " [5.09443 3.5622 ]\n",
      " [5.19313 3.82423]\n",
      " [4.83497 3.0568 ]\n",
      " [5.18897 3.87605]\n",
      " [4.68117 3.22799]\n",
      " [5.36549 3.71536]\n",
      " [5.0122  3.31587]\n",
      " [7.86445 5.30894]\n",
      " [7.36484 4.73869]\n",
      " [8.64741 5.08863]\n",
      " [7.82044 4.91854]\n",
      " [8.08003 5.09777]\n",
      " [9.18147 5.06602]\n",
      " [6.41629 4.51073]\n",
      " [8.86488 4.93096]\n",
      " [8.25917 4.51871]\n",
      " [8.7097  5.63794]\n",
      " [8.04621 5.26613]\n",
      " [7.90794 4.78004]\n",
      " [8.35884 5.05998]\n",
      " [7.22424 4.52723]\n",
      " [7.31901 4.86679]\n",
      " [7.99963 5.25256]\n",
      " [8.02815 5.01006]\n",
      " [9.27726 5.86879]\n",
      " [9.28845 4.61727]\n",
      " [7.58263 4.27775]\n",
      " [8.43384 5.2    ]\n",
      " [7.16551 4.85487]\n",
      " [9.21506 4.89108]\n",
      " [7.84797 4.73611]\n",
      " [8.29587 5.32228]\n",
      " [8.70047 5.27612]\n",
      " [7.79339 4.89248]\n",
      " [7.6699  5.03332]\n",
      " [7.99826 4.89205]\n",
      " [8.72638 5.00212]\n",
      " [8.9354  4.8024 ]\n",
      " [9.45283 5.89104]\n",
      " [7.97958 4.8164 ]\n",
      " [7.84344 4.88312]\n",
      " [7.69382 4.68   ]\n",
      " [9.28295 5.01436]\n",
      " [7.88579 5.45558]\n",
      " [7.99165 5.17444]\n",
      " [7.56219 5.0341 ]\n",
      " [8.44627 5.17289]\n",
      " [8.28127 5.13324]\n",
      " [8.41121 5.14042]\n",
      " [7.38314 4.73966]\n",
      " [8.32837 5.2944 ]\n",
      " [8.29426 5.34029]\n",
      " [8.29974 5.0282 ]\n",
      " [7.86036 4.5873 ]\n",
      " [8.05148 5.01424]\n",
      " [7.76031 5.41848]] [-1. -1. -1. -1. -1. -1. -1. -1. -1. -1. -1. -1. -1. -1. -1. -1. -1. -1.\n",
      " -1. -1. -1. -1. -1. -1. -1. -1. -1. -1. -1. -1. -1. -1. -1. -1. -1. -1.\n",
      " -1. -1. -1. -1. -1. -1. -1. -1. -1. -1. -1. -1. -1.  1.  1.  1.  1.  1.\n",
      "  1.  1.  1.  1.  1.  1.  1.  1.  1.  1.  1.  1.  1.  1.  1.  1.  1.  1.\n",
      "  1.  1.  1.  1.  1.  1.  1.  1.  1.  1.  1.  1.  1.  1.  1.  1.  1.  1.\n",
      "  1.  1.  1.  1.  1.  1.  1.  1.]\n"
     ]
    }
   ],
   "source": [
    "lc2_data = np.genfromtxt('./data/lc2_data.txt', delimiter=None)\n",
    "X, Y = lc2_data[:, :-1], lc2_data[:, -1]\n",
    "\n",
    "print(X.shape, Y.shape)\n",
    "print(X, Y)"
   ]
  },
  {
   "cell_type": "markdown",
   "metadata": {},
   "source": [
    "## Perceptron Algorithm\n",
    "As a simple example we will use the [Perceptron Algorithm](https://en.wikipedia.org/wiki/Perceptron). We will build each part seperately, showing how it works and end by wrapping it all up in a classifier class that can be used with the mltools library. \n",
    "\n",
    "We will use a 2 classes Perceptron with classes $\\{-1, 1\\}$. You can also see how to use a binary classes $\\{0, 1\\}$ and in the wiki [page](https://en.wikipedia.org/wiki/Perceptron) you can see a generalization to multiple classes.\n",
    "\n",
    "For an illustration of the algorithm you can watch this YouTube [clip](https://www.youtube.com/watch?v=vGwemZhPlsA)"
   ]
  },
  {
   "cell_type": "markdown",
   "metadata": {},
   "source": [
    "### Decision Boundry and Classification\n",
    "The Perceptron uses a decision boundary $\\theta$ to compute a value for each point. Taking the sign of this value will then give us a class prediction.\n",
    "\n",
    "We'll start by computing the decision value for each point $x^j$: $$\\theta x^j$$\n",
    "\n",
    "As an example, let's choose $j=90$ (the 90th observation in our dataset) and let's define: $$\\theta = \\left[-6, 0.5, 1\\right]$$"
   ]
  },
  {
   "cell_type": "code",
   "execution_count": 17,
   "metadata": {},
   "outputs": [],
   "source": [
    "theta = np.array([-6., 0.5, 1.])"
   ]
  },
  {
   "cell_type": "markdown",
   "metadata": {},
   "source": [
    "Notice the '.'s. This will make sure it's a float and not integer."
   ]
  },
  {
   "cell_type": "code",
   "execution_count": 18,
   "metadata": {},
   "outputs": [
    {
     "name": "stdout",
     "output_type": "stream",
     "text": [
      "(98, 2) (98, 3)\n",
      "[1.      8.41121 5.14042] 1.0\n"
     ]
    }
   ],
   "source": [
    "def add_const(X):\n",
    "    return np.hstack([np.ones([X.shape[0], 1]), X])\n",
    "\n",
    "Xconst = add_const(X)\n",
    "print(X.shape, Xconst.shape)\n",
    "x_j, y_j = Xconst[90], Y[90]\n",
    "print(x_j, y_j)"
   ]
  },
  {
   "cell_type": "markdown",
   "metadata": {},
   "source": [
    "### Response Value\n",
    "The first step in the preceptron is to compute the response value. It's comptued as the inner (dot) product $\\theta x^j$. The simple intuative way to do that is to use a for loop. "
   ]
  },
  {
   "cell_type": "code",
   "execution_count": 19,
   "metadata": {},
   "outputs": [
    {
     "name": "stdout",
     "output_type": "stream",
     "text": [
      "[-6.   0.5  1. ] [1.      8.41121 5.14042]\n",
      "3.346025\n"
     ]
    }
   ],
   "source": [
    "x_theta = 0\n",
    "print(theta, x_j)\n",
    "for i in range(x_j.shape[0]):\n",
    "    x_theta += x_j[i] * theta[i]\n",
    "    \n",
    "print(x_theta)"
   ]
  },
  {
   "cell_type": "markdown",
   "metadata": {},
   "source": [
    "This is a VERY inefficient way to do compute a inner product. Luckily for us, numpy has the answer in the form of np.dot()."
   ]
  },
  {
   "cell_type": "code",
   "execution_count": 20,
   "metadata": {
    "scrolled": true
   },
   "outputs": [
    {
     "name": "stdout",
     "output_type": "stream",
     "text": [
      "[1.      8.41121 5.14042] [-6.   0.5  1. ]\n",
      "3.346025\n"
     ]
    }
   ],
   "source": [
    "print(x_j, theta)\n",
    "print(np.dot(x_j, theta))"
   ]
  },
  {
   "cell_type": "markdown",
   "metadata": {},
   "source": [
    "### Classification Decision\n",
    "Now let's compute the decision classification $T[\\theta x^j]$. One option is to use the [np.sign](https://docs.scipy.org/doc/numpy-1.13.0/reference/generated/numpy.sign.html) method. This is not a a good solution because np.sign(0) = 0.\n",
    "\n",
    "One solution is to check for 0s explicitly."
   ]
  },
  {
   "cell_type": "code",
   "execution_count": 21,
   "metadata": {},
   "outputs": [],
   "source": [
    "def sign(vals):\n",
    "    \"\"\"Returns 1 if val >= 0 else -1\"\"\"\n",
    "    s = np.sign(vals)\n",
    "    try: # If vals is an array\n",
    "        s[s == 0] = 1\n",
    "    except: # If vals is a float\n",
    "        s = 1 if s == 0 else s\n",
    "    return s"
   ]
  },
  {
   "cell_type": "markdown",
   "metadata": {},
   "source": [
    "### Predict function\n",
    "So now with the the decision value and sign function we can write the predict function"
   ]
  },
  {
   "cell_type": "code",
   "execution_count": 22,
   "metadata": {},
   "outputs": [],
   "source": [
    "def predict(x_j, theta):\n",
    "    \"\"\"Returns the class prediction of a single point x_j\"\"\"\n",
    "    return sign(np.dot(x_j, theta))"
   ]
  },
  {
   "cell_type": "code",
   "execution_count": 23,
   "metadata": {},
   "outputs": [
    {
     "name": "stdout",
     "output_type": "stream",
     "text": [
      "1.0\n"
     ]
    }
   ],
   "source": [
    "print(predict(x_j, theta))"
   ]
  },
  {
   "cell_type": "markdown",
   "metadata": {},
   "source": [
    "### Computing the Prediction Error\n",
    "Using the predict function, we can now compute the prediction error: $$J^j = (y^j - \\hat{y}^j)$$"
   ]
  },
  {
   "cell_type": "code",
   "execution_count": 24,
   "metadata": {},
   "outputs": [],
   "source": [
    "def pred_err(X, Y, theta):\n",
    "    \"\"\"Predicts that class for X and returns the error rate. \"\"\"\n",
    "    Yhat = predict(X, theta)\n",
    "    return np.mean(Yhat != Y)"
   ]
  },
  {
   "cell_type": "code",
   "execution_count": 25,
   "metadata": {},
   "outputs": [
    {
     "name": "stdout",
     "output_type": "stream",
     "text": [
      "0.0\n"
     ]
    }
   ],
   "source": [
    "print(pred_err(x_j, y_j, theta))"
   ]
  },
  {
   "cell_type": "markdown",
   "metadata": {},
   "source": [
    "### Learning Update\n",
    "Using the error we can now even do the update step in the learning algorithm: $$\\theta = \\theta + \\alpha * (y^j - \\hat{y}^j)x^j$$"
   ]
  },
  {
   "cell_type": "code",
   "execution_count": 26,
   "metadata": {},
   "outputs": [
    {
     "name": "stdout",
     "output_type": "stream",
     "text": [
      "[-6.   0.5  1. ] 1.0 [1.      8.41121 5.14042]\n",
      "[-6.   0.5  1. ]\n"
     ]
    }
   ],
   "source": [
    "a = 0.1\n",
    "y_hat_j = predict(x_j, theta)\n",
    "print(theta, y_hat_j, x_j)\n",
    "print(theta + a * (y_j - y_hat_j) * x_j)"
   ]
  },
  {
   "cell_type": "markdown",
   "metadata": {},
   "source": [
    "### Train method\n",
    "Using everything we coded so far, we can fully create the train method"
   ]
  },
  {
   "cell_type": "code",
   "execution_count": 27,
   "metadata": {},
   "outputs": [],
   "source": [
    "def train(X, Y, a=0.01, stop_tol=1e-8, max_iter=1000):\n",
    "    # Start by adding a const\n",
    "    Xconst = add_const(X)\n",
    "    \n",
    "    m, n = Xconst.shape\n",
    "    \n",
    "    # Initializing theta\n",
    "    theta = np.array([-6., 0.5, 1.])\n",
    "    \n",
    "    # The update loops\n",
    "    J_err = [np.inf]\n",
    "    \n",
    "    for i in range(1, max_iter + 1):             # Pass through the dataset max_iter times\n",
    "        \n",
    "        for j in range(m):                       # Loop through each observation\n",
    "            x_j, y_j = Xconst[j], Y[j]           # Get observation j\n",
    "            y_hat_j = predict(x_j, theta)        # Predict using the current theta\n",
    "            theta += a * (y_j - y_hat_j) * x_j   # Update theta\n",
    "\n",
    "        # Compute the error on the dataset after each pass\n",
    "        curr_err = pred_err(Xconst, Y, theta)\n",
    "        J_err.append(curr_err)\n",
    "\n",
    "        # Stop if the change in error is small\n",
    "        if np.abs(J_err[-2] - J_err[-1]) < stop_tol:\n",
    "            print ('Reached convergance after %d iterations. Prediction error is: %.3f' % (i, J_err[-1]))\n",
    "            break\n",
    "        \n",
    "    return theta"
   ]
  },
  {
   "cell_type": "code",
   "execution_count": 28,
   "metadata": {},
   "outputs": [
    {
     "name": "stdout",
     "output_type": "stream",
     "text": [
      "Reached convergance after 3 iterations. Prediction error is: 0.071\n"
     ]
    }
   ],
   "source": [
    "theta_trained = train(X, Y)"
   ]
  },
  {
   "cell_type": "markdown",
   "metadata": {},
   "source": [
    "## Creating a Perceptron Classifier\n",
    "Now let's use all the code that we wrote and create a Python class Perceptron that can plug in to the mltools package.\n",
    "\n",
    "In order to do that, the Prceptron class has to inherit the object mltools.base.classifier\n",
    "\n",
    "In case you haven't looked at the actual code in the mltools, now will probably be the right time."
   ]
  },
  {
   "cell_type": "code",
   "execution_count": 29,
   "metadata": {},
   "outputs": [],
   "source": [
    "from utils.base import classifier"
   ]
  },
  {
   "cell_type": "markdown",
   "metadata": {},
   "source": [
    "In order to crete an object, we'll have to add self to all the methods."
   ]
  },
  {
   "cell_type": "code",
   "execution_count": 30,
   "metadata": {},
   "outputs": [],
   "source": [
    "class Perceptron(classifier):\n",
    "    def __init__(self, theta=None):\n",
    "        self.theta = theta\n",
    "    \n",
    "    def predict(self, X):\n",
    "        \"\"\"Retruns class prediction for either single point or multiple points. \"\"\"\n",
    "        # I'm addiing this stuff here so it could work with the plotClassify2D method.\n",
    "        Xconst = np.atleast_2d(X)\n",
    "        \n",
    "        # Making sure it has the const, if not adding it.\n",
    "        if Xconst.shape[1] == self.theta.shape[0] - 1:\n",
    "            Xconst = add_const(Xconst)\n",
    "        \n",
    "        return self.sign(np.dot(Xconst, self.theta))\n",
    "                \n",
    "    def sign(self, vals):\n",
    "        \"\"\"A sign version with breaking 0's as +1. \"\"\"\n",
    "        return np.sign(vals + 1e-200)\n",
    "    \n",
    "    def pred_err(self, X, Y):\n",
    "        Yhat = self.predict(X)\n",
    "        return np.mean(Yhat != Y)\n",
    "    \n",
    "    def train(self, X, Y, a=0.02, stop_tol=1e-8, max_iter=1000):\n",
    "        # Start by adding a const\n",
    "        Xconst = add_const(X)\n",
    "\n",
    "        m, n = Xconst.shape\n",
    "        \n",
    "        # Making sure Theta is inititialized.\n",
    "        if self.theta is None:\n",
    "            self.theta = np.random.random(n)\n",
    "\n",
    "        # The update loops\n",
    "        J_err = [np.inf]\n",
    "        for i in range(1, max_iter + 1):\n",
    "            for j in range(m):\n",
    "                x_j, y_j = Xconst[j], Y[j]\n",
    "                y_hat_j = self.predict(x_j)\n",
    "                self.theta += a * (y_j - y_hat_j) * x_j\n",
    "                \n",
    "            curr_err = self.pred_err(Xconst, Y)\n",
    "            J_err.append(curr_err)\n",
    "\n",
    "            if np.abs(J_err[-2] - J_err[-1]) < stop_tol:\n",
    "                print ('Reached convergance after %d iterations. Prediction error is: %.3f' % (i, J_err[-1]))\n",
    "                break"
   ]
  },
  {
   "cell_type": "markdown",
   "metadata": {},
   "source": [
    "### Creating a model, training and plotting predictions"
   ]
  },
  {
   "cell_type": "markdown",
   "metadata": {},
   "source": [
    "First let's create the model with some initialized theta and plot the decision bounderies. For the plotting we can use the mltools plotClassify2D."
   ]
  },
  {
   "cell_type": "code",
   "execution_count": 31,
   "metadata": {},
   "outputs": [
    {
     "name": "stderr",
     "output_type": "stream",
     "text": [
      "/Users/harryxiong24/Code/Study/machine-learning-collection/linear-classification/utils/plot.py:60: UserWarning: color is redundantly defined by the 'color' keyword argument and the fmt string \"ko\" (-> color='k'). The keyword argument will take precedence.\n",
      "  axis.plot( X[Y==c,0],X[Y==c,1], 'ko', color=cmap(cvals[i]), **kwargs )\n"
     ]
    },
    {
     "data": {
      "image/png": "[encoded data removed]",
      "text/plain": [
       "<Figure size 640x480 with 1 Axes>"
      ]
     },
     "metadata": {},
     "output_type": "display_data"
    }
   ],
   "source": [
    "model = Perceptron()\n",
    "model.theta = np.array([-6., 0.5, 1])\n",
    "\n",
    "ml.plotClassify2D(model, X, Y)\n",
    "plt.show()"
   ]
  },
  {
   "cell_type": "markdown",
   "metadata": {},
   "source": [
    "Next, let's actually train the model and plot the new decision boundery."
   ]
  },
  {
   "cell_type": "code",
   "execution_count": 32,
   "metadata": {},
   "outputs": [
    {
     "name": "stdout",
     "output_type": "stream",
     "text": [
      "Reached convergance after 36 iterations. Prediction error is: 0.000\n"
     ]
    },
    {
     "data": {
      "image/png": "[encoded data removed]",
      "text/plain": [
       "<Figure size 640x480 with 1 Axes>"
      ]
     },
     "metadata": {},
     "output_type": "display_data"
    }
   ],
   "source": [
    "model.theta = np.array([-6., 0.5, 1])\n",
    "model.train(X, Y)\n",
    "ml.plotClassify2D(model, X, Y)"
   ]
  },
  {
   "cell_type": "markdown",
   "metadata": {},
   "source": [
    "We found the best classifier!!!"
   ]
  }
 ],
 "metadata": {
  "kernelspec": {
   "display_name": "Python 3",
   "language": "python",
   "name": "python3"
  },
  "language_info": {
   "codemirror_mode": {
    "name": "ipython",
    "version": 3
   },
   "file_extension": ".py",
   "mimetype": "text/x-python",
   "name": "python",
   "nbconvert_exporter": "python",
   "pygments_lexer": "ipython3",
   "version": "3.11.5"
  }
 },
 "nbformat": 4,
 "nbformat_minor": 1
}
