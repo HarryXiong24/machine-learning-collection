{
 "cells": [
  {
   "cell_type": "markdown",
   "metadata": {},
   "source": [
    "# Logistic Regression\n"
   ]
  },
  {
   "cell_type": "code",
   "execution_count": 9,
   "metadata": {},
   "outputs": [],
   "source": [
    "import numpy as np\n",
    "import matplotlib.pyplot as plt\n",
    "import utils as ml\n",
    "from logisticClassify import *"
   ]
  },
  {
   "cell_type": "code",
   "execution_count": 12,
   "metadata": {},
   "outputs": [
    {
     "name": "stdout",
     "output_type": "stream",
     "text": [
      "(99, 2) (99,)\n",
      "(99, 2) (99,)\n"
     ]
    }
   ],
   "source": [
    "iris = np.genfromtxt(\"data/iris.txt\", delimiter=None)\n",
    "X, Y = iris[:, 0:2], iris[:, -1]  # get first two features & target\n",
    "X, Y = ml.shuffleData(X, Y)  # reorder randomly (important later)\n",
    "X, _ = ml.rescale(X)  # works much better on rescaled data\n",
    "\n",
    "XA, YA = X[Y < 2, :], Y[Y < 2]  # get class 0 vs 1\n",
    "XB, YB = X[Y > 0, :], Y[Y > 0]  # get class 1 vs 2\n",
    "\n",
    "print(XA.shape, YA.shape)\n",
    "print(XB.shape, YB.shape)"
   ]
  },
  {
   "cell_type": "code",
   "execution_count": null,
   "metadata": {},
   "outputs": [],
   "source": []
  }
 ],
 "metadata": {
  "kernelspec": {
   "display_name": "base",
   "language": "python",
   "name": "python3"
  },
  "language_info": {
   "codemirror_mode": {
    "name": "ipython",
    "version": 3
   },
   "file_extension": ".py",
   "mimetype": "text/x-python",
   "name": "python",
   "nbconvert_exporter": "python",
   "pygments_lexer": "ipython3",
   "version": "3.11.5"
  }
 },
 "nbformat": 4,
 "nbformat_minor": 2
}
