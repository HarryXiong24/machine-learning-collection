{
 "cells": [
  {
   "cell_type": "markdown",
   "metadata": {},
   "source": [
    "# Numpy"
   ]
  },
  {
   "cell_type": "markdown",
   "metadata": {},
   "source": [
    "## Import"
   ]
  },
  {
   "cell_type": "code",
   "execution_count": 147,
   "metadata": {},
   "outputs": [],
   "source": [
    "import numpy as np"
   ]
  },
  {
   "cell_type": "markdown",
   "metadata": {},
   "source": [
    "## Create & Type"
   ]
  },
  {
   "cell_type": "code",
   "execution_count": 148,
   "metadata": {},
   "outputs": [
    {
     "name": "stdout",
     "output_type": "stream",
     "text": [
      "[0 1 2 3 4 5 6]\n",
      "(7,)\n",
      "int64\n"
     ]
    }
   ],
   "source": [
    "# Create a numpy array\n",
    "np1 = np.array([0, 1, 2, 3, 4, 5, 6])\n",
    "print(np1)\n",
    "# Print the array\n",
    "print(np1.shape)\n",
    "\n",
    "# Create a numpy array\n",
    "my_list = [0, 1, 2, 3, 4, 5, 6]\n",
    "np2 = np.array(my_list)\n",
    "\n",
    "print(np2.dtype)"
   ]
  },
  {
   "cell_type": "markdown",
   "metadata": {},
   "source": [
    "## Common ways to create array"
   ]
  },
  {
   "cell_type": "code",
   "execution_count": 149,
   "metadata": {},
   "outputs": [
    {
     "name": "stdout",
     "output_type": "stream",
     "text": [
      "[0 1 2 3 4 5 6 7 8 9]\n",
      "[0 2 4 6 8]\n",
      "[0. 0. 0. 0. 0. 0. 0. 0. 0. 0.]\n",
      "[[0. 0. 0. 0. 0. 0. 0. 0. 0. 0.]\n",
      " [0. 0. 0. 0. 0. 0. 0. 0. 0. 0.]]\n",
      "[1. 1. 1. 1. 1. 1. 1. 1. 1. 1.]\n",
      "[[1. 1. 1. 1. 1. 1. 1. 1. 1. 1.]\n",
      " [1. 1. 1. 1. 1. 1. 1. 1. 1. 1.]]\n",
      "[6 6 6 6 6 6 6 6 6 6]\n",
      "[[6 6 6 6 6 6 6 6 6 6]\n",
      " [6 6 6 6 6 6 6 6 6 6]]\n",
      "[[1. 0. 0. 0.]\n",
      " [0. 1. 0. 0.]\n",
      " [0. 0. 1. 0.]\n",
      " [0. 0. 0. 1.]]\n",
      "[[1. 0. 0. 0.]\n",
      " [0. 1. 0. 0.]\n",
      " [0. 0. 1. 0.]\n",
      " [0. 0. 0. 1.]]\n"
     ]
    }
   ],
   "source": [
    "print(np.arange(10))\n",
    "print(np.arange(0, 10, 2))\n",
    "\n",
    "print(np.zeros(10))\n",
    "print(np.zeros((2, 10)))\n",
    "\n",
    "print(np.ones(10))\n",
    "print(np.ones((2, 10)))\n",
    "\n",
    "print(np.full((10), 6))\n",
    "print(np.full((2, 10), 6))\n",
    "\n",
    "print(np.eye(4))\n",
    "print(np.eye(4, 4))"
   ]
  },
  {
   "cell_type": "markdown",
   "metadata": {},
   "source": [
    "## Random"
   ]
  },
  {
   "cell_type": "code",
   "execution_count": 150,
   "metadata": {},
   "outputs": [
    {
     "name": "stdout",
     "output_type": "stream",
     "text": [
      "[[0.25875642 0.53622734 0.53484999 0.34747067 0.85822675 0.08780566\n",
      "  0.59943701 0.72780378 0.34487122 0.56095524]\n",
      " [0.05265132 0.2903262  0.99918863 0.22958261 0.29658646 0.42737711\n",
      "  0.02606663 0.19742626 0.25168967 0.56750066]]\n",
      "[[0 7 7 6 7 8 1 5 8 4]\n",
      " [5 2 5 5 0 2 1 8 8 1]]\n"
     ]
    }
   ],
   "source": [
    "# random\n",
    "np1 = np.random.random((2, 10))\n",
    "print(np1)\n",
    "\n",
    "np2 = np.random.randint(0, 10, (2, 10))\n",
    "print(np2)"
   ]
  },
  {
   "cell_type": "markdown",
   "metadata": {},
   "source": [
    "## Dimension"
   ]
  },
  {
   "cell_type": "code",
   "execution_count": 151,
   "metadata": {},
   "outputs": [
    {
     "name": "stdout",
     "output_type": "stream",
     "text": [
      "[7 5 0 0 7 3 8 0 2 3]\n",
      "1\n",
      "(10,)\n",
      "10\n",
      "8\n",
      "----------------\n",
      "[[2 8 7 9 9 4 3 8 4 6]\n",
      " [2 8 8 9 5 1 4 2 6 4]]\n",
      "2\n",
      "(2, 10)\n",
      "20\n",
      "8\n",
      "----------------\n",
      "[[[0 7 5 5]\n",
      "  [8 4 3 7]\n",
      "  [5 5 6 3]]\n",
      "\n",
      " [[1 0 1 0]\n",
      "  [0 0 5 4]\n",
      "  [6 1 3 2]]]\n",
      "3\n",
      "(2, 3, 4)\n",
      "24\n",
      "8\n"
     ]
    }
   ],
   "source": [
    "# ndim & shape & size & itemsize\n",
    "np1 = np.random.randint(0, 10, 10)\n",
    "print(np1)\n",
    "print(np1.ndim)\n",
    "print(np1.shape)\n",
    "print(np1.size)\n",
    "print(np1.itemsize)\n",
    "\n",
    "print('----------------')\n",
    "np2 = np.random.randint(0, 10, (2, 10))\n",
    "print(np2)\n",
    "print(np2.ndim)\n",
    "print(np2.shape)\n",
    "print(np2.size)\n",
    "print(np2.itemsize)\n",
    "\n",
    "print('----------------')\n",
    "np3 = np.random.randint(0, 10, (2, 3, 4))\n",
    "print(np3)\n",
    "print(np3.ndim)\n",
    "print(np3.shape)\n",
    "print(np3.size)\n",
    "print(np3.itemsize)"
   ]
  },
  {
   "cell_type": "code",
   "execution_count": 152,
   "metadata": {},
   "outputs": [
    {
     "name": "stdout",
     "output_type": "stream",
     "text": [
      "[5 7 5 1 6 5 1 2 6 7 5 2 6 6 8 6 6 1 4 6] (20,)\n",
      "----------------\n",
      "[[5 7 5 1 6 5 1 2 6 7]\n",
      " [5 2 6 6 8 6 6 1 4 6]] (2, 10)\n",
      "----------------\n",
      "[[[5 7 5 1 6]\n",
      "  [5 1 2 6 7]]\n",
      "\n",
      " [[5 2 6 6 8]\n",
      "  [6 6 1 4 6]]] (2, 2, 5)\n",
      "----------------\n",
      "[[5]\n",
      " [7]\n",
      " [5]\n",
      " [1]\n",
      " [6]\n",
      " [5]\n",
      " [1]\n",
      " [2]\n",
      " [6]\n",
      " [7]\n",
      " [5]\n",
      " [2]\n",
      " [6]\n",
      " [6]\n",
      " [8]\n",
      " [6]\n",
      " [6]\n",
      " [1]\n",
      " [4]\n",
      " [6]] (20, 1)\n",
      "----------------\n",
      "[[5 7 5 1 6 5 1 2 6 7 5 2 6 6 8 6 6 1 4 6]] (1, 20)\n",
      "----------------\n",
      "[5 7 5 1 6 5 1 2 6 7 5 2 6 6 8 6 6 1 4 6] (20,)\n"
     ]
    }
   ],
   "source": [
    "# reshape\n",
    "np1 = np.random.randint(0, 10, 20)\n",
    "print(np1, np1.shape)\n",
    "\n",
    "print('----------------')\n",
    "np2 = np1.reshape(2, 10)\n",
    "print(np2, np2.shape)\n",
    "\n",
    "print('----------------')\n",
    "np3 = np1.reshape(2, 2, 5)\n",
    "print(np3, np3.shape)\n",
    "\n",
    "# -1 means let numpy figure out the dimension size in that dimension\n",
    "print('----------------')\n",
    "np4 = np3.reshape((-1, 1))\n",
    "print(np4, np4.shape)\n",
    "\n",
    "# -1 means let numpy figure out the dimension size in that dimension\n",
    "print('----------------')\n",
    "np5 = np3.reshape((1, -1))\n",
    "print(np5, np5.shape)\n",
    "\n",
    "print('----------------')\n",
    "np6 = np3.flatten() # flatten() always returns a copy\n",
    "print(np6, np6.shape)\n",
    "\n",
    "print('----------------')\n",
    "np7 = np3.ravel() # ravel() returns a view if possible\n",
    "print(np7, np7.shape)\n"
   ]
  },
  {
   "cell_type": "markdown",
   "metadata": {},
   "source": [
    "## Slice"
   ]
  },
  {
   "cell_type": "code",
   "execution_count": 153,
   "metadata": {},
   "outputs": [
    {
     "name": "stdout",
     "output_type": "stream",
     "text": [
      "[0 1 2 3 4 5 6 7 8 9]\n",
      "4\n",
      "[0 1 2 3]\n",
      "[0 2 4 6 8]\n"
     ]
    }
   ],
   "source": [
    "# Slice in one dimension\n",
    "np1 = np.arange(10)\n",
    "print(np1)\n",
    "\n",
    "print(np1[4])\n",
    "print(np1[0:4])\n",
    "print(np1[0:10:2])"
   ]
  },
  {
   "cell_type": "code",
   "execution_count": 154,
   "metadata": {},
   "outputs": [
    {
     "name": "stdout",
     "output_type": "stream",
     "text": [
      "[[ 0  1  2  3  4  5]\n",
      " [ 6  7  8  9 10 11]\n",
      " [12 13 14 15 16 17]\n",
      " [18 19 20 21 22 23]]\n",
      "----------------\n",
      "[0 1 2 3 4 5]\n",
      "0\n",
      "----------------\n",
      "[[0 1 2 3 4 5]]\n",
      "[ 0  6 12 18]\n",
      "[[0 1 2]\n",
      " [6 7 8]]\n"
     ]
    }
   ],
   "source": [
    "# Slice in two dimension\n",
    "np2 = np.arange(24).reshape(4, 6)\n",
    "print(np2)\n",
    "\n",
    "print('----------------')\n",
    "print(np2[0])\n",
    "print(np2[0, 0])\n",
    "\n",
    "print('----------------')\n",
    "print(np2[0:1, :])\n",
    "print(np2[:, 0])\n",
    "print(np2[0:2, 0:3])"
   ]
  },
  {
   "cell_type": "markdown",
   "metadata": {},
   "source": [
    "## Bool Index"
   ]
  },
  {
   "cell_type": "code",
   "execution_count": 155,
   "metadata": {},
   "outputs": [
    {
     "name": "stdout",
     "output_type": "stream",
     "text": [
      "[[ 0  1  2  3  4  5]\n",
      " [ 6  7  8  9 10 11]\n",
      " [12 13 14 15 16 17]\n",
      " [18 19 20 21 22 23]]\n",
      "----------------\n",
      "[[ True  True  True  True  True  True]\n",
      " [ True  True  True  True False False]\n",
      " [False False False False False False]\n",
      " [False False False False False False]]\n",
      "----------------\n",
      "[0 1 2 3 4 5 6 7 8 9]\n",
      "----------------\n",
      "[ 0  2  4  6  8 10 12 14 16 18 20 22]\n",
      "----------------\n",
      "[]\n",
      "----------------\n",
      "[ 0  1  2  3  4 11 12 13 14 15 16 17 18 19 20 21 22 23]\n"
     ]
    }
   ],
   "source": [
    "np1 = np.arange(24).reshape(4, 6)\n",
    "print(np1)\n",
    "\n",
    "print('----------------')\n",
    "np2 = np1 < 10\n",
    "print(np2)\n",
    "\n",
    "print('----------------')\n",
    "np3 = np1[np1 < 10]\n",
    "print(np3)\n",
    "\n",
    "print('----------------')\n",
    "np4 = np1[np1 % 2 == 0]\n",
    "print(np4)\n",
    "\n",
    "print('----------------')\n",
    "np5 = np1[(np1 < 5) & (np1 > 10)]\n",
    "print(np5)\n",
    "\n",
    "print('----------------')\n",
    "np6 = np1[(np1 < 5) | (np1 > 10)]\n",
    "print(np6)\n"
   ]
  },
  {
   "cell_type": "markdown",
   "metadata": {},
   "source": [
    "## Value Update"
   ]
  },
  {
   "cell_type": "code",
   "execution_count": 156,
   "metadata": {},
   "outputs": [
    {
     "name": "stdout",
     "output_type": "stream",
     "text": [
      "[[ 0  1  2  3  4  5]\n",
      " [ 6  7  8  9 10 11]\n",
      " [12 13 14 15 16 17]\n",
      " [18 19 20 21 22 23]]\n",
      "----------------\n",
      "[[100 100 100 100 100 100]\n",
      " [  6   7   8   9  10  11]\n",
      " [ 12  13  14  15  16  17]\n",
      " [ 18  19  20  21  22  23]]\n",
      "----------------\n",
      "[[100 100 100 100 100 100]\n",
      " [  0   0   0   0  10  11]\n",
      " [ 12  13  14  15  16  17]\n",
      " [ 18  19  20  21  22  23]]\n",
      "----------------\n",
      "[[0 0 0 0 0 0]\n",
      " [1 1 1 1 1 1]\n",
      " [1 1 1 1 1 1]\n",
      " [1 1 1 0 0 0]]\n"
     ]
    }
   ],
   "source": [
    "np1 = np.arange(24).reshape(4, 6)\n",
    "print(np1)\n",
    "\n",
    "print('----------------')\n",
    "np1[0] = 100\n",
    "print(np1)\n",
    "\n",
    "print('----------------')\n",
    "np1[np1 < 10] = 0\n",
    "print(np1)\n",
    "\n",
    "print('----------------')\n",
    "np2 = np.where(np1 > 20, 0, 1)\n",
    "print(np2)\n"
   ]
  },
  {
   "cell_type": "markdown",
   "metadata": {},
   "source": [
    "## Broadcast"
   ]
  },
  {
   "cell_type": "code",
   "execution_count": 157,
   "metadata": {},
   "outputs": [
    {
     "name": "stdout",
     "output_type": "stream",
     "text": [
      "[[ 0  1  2  3  4  5]\n",
      " [ 6  7  8  9 10 11]\n",
      " [12 13 14 15 16 17]\n",
      " [18 19 20 21 22 23]]\n",
      "----------------\n",
      "[[10 11 12 13 14 15]\n",
      " [16 17 18 19 20 21]\n",
      " [22 23 24 25 26 27]\n",
      " [28 29 30 31 32 33]]\n",
      "----------------\n",
      "[[  0  10  20  30  40  50]\n",
      " [ 60  70  80  90 100 110]\n",
      " [120 130 140 150 160 170]\n",
      " [180 190 200 210 220 230]]\n"
     ]
    }
   ],
   "source": [
    "# array and number\n",
    "np1 = np.arange(24).reshape(4, 6)\n",
    "print(np1)\n",
    "\n",
    "print('----------------')\n",
    "np2 = np1 + 10\n",
    "print(np2)\n",
    "\n",
    "print('----------------')\n",
    "np3 = np1 * 10\n",
    "print(np3)"
   ]
  },
  {
   "cell_type": "code",
   "execution_count": 158,
   "metadata": {},
   "outputs": [
    {
     "name": "stdout",
     "output_type": "stream",
     "text": [
      "[[ 0  1  2  3  4  5]\n",
      " [ 6  7  8  9 10 11]\n",
      " [12 13 14 15 16 17]\n",
      " [18 19 20 21 22 23]]\n",
      "----------------\n",
      "[[ 0  2  4  6  8 10]\n",
      " [12 14 16 18 20 22]\n",
      " [24 26 28 30 32 34]\n",
      " [36 38 40 42 44 46]]\n",
      "----------------\n",
      "[[0]\n",
      " [1]\n",
      " [2]\n",
      " [3]]\n",
      "[[ 0  1  2  3  4  5]\n",
      " [ 7  8  9 10 11 12]\n",
      " [14 15 16 17 18 19]\n",
      " [21 22 23 24 25 26]]\n",
      "----------------\n",
      "[0 1 2 3 4 5]\n",
      "[[ 0  2  4  6  8 10]\n",
      " [ 6  8 10 12 14 16]\n",
      " [12 14 16 18 20 22]\n",
      " [18 20 22 24 26 28]]\n"
     ]
    }
   ],
   "source": [
    "# array and array\n",
    "np1 = np.arange(24).reshape(4, 6)\n",
    "print(np1)\n",
    "\n",
    "# shape must be the same\n",
    "print('----------------')\n",
    "np2 = np.arange(24).reshape(4, 6) \n",
    "print(np1 + np2) \n",
    "\n",
    "# row is the same\n",
    "print('----------------')\n",
    "np3 = np.arange(4).reshape(-1, 1)\n",
    "print(np3)\n",
    "print(np1 + np3)\n",
    "\n",
    "# column is the same\n",
    "print('----------------')\n",
    "np4 = np.arange(6)\n",
    "print(np4)\n",
    "print(np1 + np4)\n"
   ]
  },
  {
   "cell_type": "markdown",
   "metadata": {},
   "source": [
    "## Arrays Concatenate"
   ]
  },
  {
   "cell_type": "code",
   "execution_count": 159,
   "metadata": {},
   "outputs": [
    {
     "name": "stdout",
     "output_type": "stream",
     "text": [
      "[[ 0  1  2  3  4  5]\n",
      " [ 6  7  8  9 10 11]\n",
      " [12 13 14 15 16 17]\n",
      " [18 19 20 21 22 23]]\n",
      "[[ 0  1  2  3  4  5]\n",
      " [ 6  7  8  9 10 11]]\n",
      "[[ 0  1  2  3  4  5]\n",
      " [ 6  7  8  9 10 11]\n",
      " [12 13 14 15 16 17]\n",
      " [18 19 20 21 22 23]\n",
      " [ 0  1  2  3  4  5]\n",
      " [ 6  7  8  9 10 11]]\n",
      "----------------\n",
      "[[ 0  1  2  3  4  5]\n",
      " [ 6  7  8  9 10 11]\n",
      " [12 13 14 15 16 17]\n",
      " [18 19 20 21 22 23]]\n",
      "[[ 0  1  2]\n",
      " [ 3  4  5]\n",
      " [ 6  7  8]\n",
      " [ 9 10 11]]\n",
      "[[ 0  1  2  3  4  5  0  1  2]\n",
      " [ 6  7  8  9 10 11  3  4  5]\n",
      " [12 13 14 15 16 17  6  7  8]\n",
      " [18 19 20 21 22 23  9 10 11]]\n"
     ]
    }
   ],
   "source": [
    "# row\n",
    "np1 = np.arange(24).reshape(4, 6)\n",
    "print(np1)\n",
    "np2 = np.arange(12).reshape(-1, 6)\n",
    "print(np2)\n",
    "\n",
    "np3 = np.vstack((np1, np2))\n",
    "print(np3)\n",
    "\n",
    "# column\n",
    "print('----------------')\n",
    "np4 = np.arange(24).reshape(4, 6)\n",
    "print(np4)\n",
    "np5 = np.arange(12).reshape(4, -1)\n",
    "print(np5)\n",
    "\n",
    "np6 = np.hstack((np4, np5))\n",
    "print(np6)\n"
   ]
  },
  {
   "cell_type": "code",
   "execution_count": 160,
   "metadata": {},
   "outputs": [
    {
     "name": "stdout",
     "output_type": "stream",
     "text": [
      "[[ 0  1  2  3  4  5]\n",
      " [ 6  7  8  9 10 11]\n",
      " [12 13 14 15 16 17]\n",
      " [18 19 20 21 22 23]]\n",
      "[[ 0  1  2]\n",
      " [ 3  4  5]\n",
      " [ 6  7  8]\n",
      " [ 9 10 11]]\n",
      "[[ 0  1  2  3  4  5  0  1  2]\n",
      " [ 6  7  8  9 10 11  3  4  5]\n",
      " [12 13 14 15 16 17  6  7  8]\n",
      " [18 19 20 21 22 23  9 10 11]]\n",
      "----------------\n",
      "[[ 0  1  2  3  4  5]\n",
      " [ 6  7  8  9 10 11]\n",
      " [12 13 14 15 16 17]\n",
      " [18 19 20 21 22 23]]\n",
      "[[ 0  1  2  3  4  5]\n",
      " [ 6  7  8  9 10 11]]\n",
      "[[ 0  1  2  3  4  5]\n",
      " [ 6  7  8  9 10 11]\n",
      " [12 13 14 15 16 17]\n",
      " [18 19 20 21 22 23]\n",
      " [ 0  1  2  3  4  5]\n",
      " [ 6  7  8  9 10 11]]\n",
      "----------------\n",
      "[ 0  1  2  3  4  5  6  7  8  9 10 11 12 13 14 15 16 17 18 19 20 21 22 23\n",
      "  0  1  2  3  4  5  6  7  8  9 10 11]\n"
     ]
    }
   ],
   "source": [
    "# concatenate\n",
    "\n",
    "# column\n",
    "np1 = np.arange(24).reshape(4, 6)\n",
    "print(np1)\n",
    "np2 = np.arange(12).reshape(4, -1)\n",
    "print(np2)\n",
    "\n",
    "np3 = np.concatenate((np1, np2), axis=1)\n",
    "print(np3)\n",
    "\n",
    "# row\n",
    "print('----------------')\n",
    "np4 = np.arange(24).reshape(4, 6)\n",
    "print(np4)\n",
    "np5 = np.arange(12).reshape(-1, 6)\n",
    "print(np5)\n",
    "\n",
    "np6 = np.concatenate((np4, np5), axis=0)\n",
    "print(np6)\n",
    "\n",
    "# flatten\n",
    "print('----------------')\n",
    "np7 = np.concatenate((np4, np5), axis=None)\n",
    "print(np7)\n"
   ]
  },
  {
   "cell_type": "markdown",
   "metadata": {},
   "source": [
    "## Array Split"
   ]
  },
  {
   "cell_type": "code",
   "execution_count": 161,
   "metadata": {},
   "outputs": [
    {
     "name": "stdout",
     "output_type": "stream",
     "text": [
      "[[ 0  1  2  3  4  5]\n",
      " [ 6  7  8  9 10 11]\n",
      " [12 13 14 15 16 17]\n",
      " [18 19 20 21 22 23]]\n",
      "----------------\n",
      "[[ 0  1  2  3  4  5]\n",
      " [ 6  7  8  9 10 11]] [[12 13 14 15 16 17]\n",
      " [18 19 20 21 22 23]]\n",
      "----------------\n",
      "[[0 1 2 3 4 5]] [[ 6  7  8  9 10 11]] [[12 13 14 15 16 17]] [[18 19 20 21 22 23]]\n",
      "----------------\n",
      "[[ 0  1  2]\n",
      " [ 6  7  8]\n",
      " [12 13 14]\n",
      " [18 19 20]] [[ 3  4  5]\n",
      " [ 9 10 11]\n",
      " [15 16 17]\n",
      " [21 22 23]]\n",
      "----------------\n",
      "[[ 0  1]\n",
      " [ 6  7]\n",
      " [12 13]\n",
      " [18 19]] [[ 2  3]\n",
      " [ 8  9]\n",
      " [14 15]\n",
      " [20 21]] [[ 4  5]\n",
      " [10 11]\n",
      " [16 17]\n",
      " [22 23]]\n"
     ]
    }
   ],
   "source": [
    "np1 = np.arange(24).reshape(4, 6)\n",
    "print(np1)\n",
    "\n",
    "print('----------------')\n",
    "v1, v2 = np.vsplit(np1, 2)\n",
    "print(v1, v2)\n",
    "\n",
    "print('----------------')\n",
    "v1, v2, v3, v4 = np.vsplit(np1, 4)\n",
    "print(v1, v2, v3, v4)\n",
    "\n",
    "print('----------------')\n",
    "h1, h2 = np.hsplit(np1, 2)\n",
    "print(h1, h2)\n",
    "\n",
    "print('----------------')\n",
    "h1, h2, h3 = np.hsplit(np1, 3)\n",
    "print(h1, h2, h3)"
   ]
  },
  {
   "cell_type": "code",
   "execution_count": 162,
   "metadata": {},
   "outputs": [
    {
     "name": "stdout",
     "output_type": "stream",
     "text": [
      "[[ 0  1  2  3  4  5]\n",
      " [ 6  7  8  9 10 11]\n",
      " [12 13 14 15 16 17]\n",
      " [18 19 20 21 22 23]]\n",
      "----------------\n",
      "[[ 0  1  2  3  4  5]\n",
      " [ 6  7  8  9 10 11]] [[12 13 14 15 16 17]\n",
      " [18 19 20 21 22 23]]\n",
      "----------------\n",
      "[[ 0  1]\n",
      " [ 6  7]\n",
      " [12 13]\n",
      " [18 19]] [[ 2  3]\n",
      " [ 8  9]\n",
      " [14 15]\n",
      " [20 21]] [[ 4  5]\n",
      " [10 11]\n",
      " [16 17]\n",
      " [22 23]]\n"
     ]
    }
   ],
   "source": [
    "# array_split\n",
    "np1 = np.arange(24).reshape(4, 6)\n",
    "print(np1)\n",
    "\n",
    "print('----------------')\n",
    "v1, v2 = np.array_split(np1, 2, axis=0)\n",
    "print(v1, v2)\n",
    "\n",
    "print('----------------')\n",
    "v1, v2, v3 = np.array_split(np1, 3, axis=1)\n",
    "print(v1, v2, v3)"
   ]
  },
  {
   "cell_type": "markdown",
   "metadata": {},
   "source": [
    "## Array Transpose"
   ]
  },
  {
   "cell_type": "code",
   "execution_count": 166,
   "metadata": {},
   "outputs": [
    {
     "name": "stdout",
     "output_type": "stream",
     "text": [
      "[[ 0  1  2  3  4  5]\n",
      " [ 6  7  8  9 10 11]\n",
      " [12 13 14 15 16 17]\n",
      " [18 19 20 21 22 23]]\n",
      "----------------\n",
      "[[ 0  6 12 18]\n",
      " [ 1  7 13 19]\n",
      " [ 2  8 14 20]\n",
      " [ 3  9 15 21]\n",
      " [ 4 10 16 22]\n",
      " [ 5 11 17 23]]\n",
      "----------------\n",
      "[[ 0  6 12 18]\n",
      " [ 1  7 13 19]\n",
      " [ 2  8 14 20]\n",
      " [ 3  9 15 21]\n",
      " [ 4 10 16 22]\n",
      " [ 5 11 17 23]]\n",
      "----------------\n",
      "[[  55  145  235  325]\n",
      " [ 145  451  757 1063]\n",
      " [ 235  757 1279 1801]\n",
      " [ 325 1063 1801 2539]]\n"
     ]
    }
   ],
   "source": [
    "np1 = np.arange(24).reshape(4, 6)\n",
    "print(np1)\n",
    "\n",
    "print('----------------')\n",
    "np2 = np1.T\n",
    "print(np2)\n",
    "\n",
    "print('----------------')\n",
    "np3 = np1.transpose()\n",
    "print(np3)\n",
    "\n",
    "print('----------------')\n",
    "np4 = np1.dot(np2)\n",
    "print(np4)"
   ]
  },
  {
   "cell_type": "markdown",
   "metadata": {},
   "source": [
    "## Array Copy"
   ]
  },
  {
   "cell_type": "code",
   "execution_count": 168,
   "metadata": {},
   "outputs": [
    {
     "name": "stdout",
     "output_type": "stream",
     "text": [
      "[[ 0  1  2  3  4  5]\n",
      " [ 6  7  8  9 10 11]\n",
      " [12 13 14 15 16 17]\n",
      " [18 19 20 21 22 23]]\n",
      "[[ 0  1  2  3  4  5]\n",
      " [ 6  7  8  9 10 11]\n",
      " [12 13 14 15 16 17]\n",
      " [18 19 20 21 22 23]]\n",
      "----------------\n",
      "[[ 1  1  2  3  4  5]\n",
      " [ 6  7  8  9 10 11]\n",
      " [12 13 14 15 16 17]\n",
      " [18 19 20 21 22 23]] [[ 1  1  2  3  4  5]\n",
      " [ 6  7  8  9 10 11]\n",
      " [12 13 14 15 16 17]\n",
      " [18 19 20 21 22 23]]\n"
     ]
    }
   ],
   "source": [
    "# no copy\n",
    "np1 = np.arange(24).reshape(4, 6)\n",
    "print(np1)\n",
    "np2 = np1\n",
    "print(np2)\n",
    "\n",
    "print('----------------')\n",
    "np2[0, 0] = 1\n",
    "print(np1, np2)"
   ]
  },
  {
   "cell_type": "code",
   "execution_count": 169,
   "metadata": {},
   "outputs": [
    {
     "name": "stdout",
     "output_type": "stream",
     "text": [
      "[[ 0  1  2  3  4  5]\n",
      " [ 6  7  8  9 10 11]\n",
      " [12 13 14 15 16 17]\n",
      " [18 19 20 21 22 23]]\n",
      "[[ 0  1  2  3  4  5]\n",
      " [ 6  7  8  9 10 11]\n",
      " [12 13 14 15 16 17]\n",
      " [18 19 20 21 22 23]]\n",
      "----------------\n",
      "[[ 1  1  2  3  4  5]\n",
      " [ 6  7  8  9 10 11]\n",
      " [12 13 14 15 16 17]\n",
      " [18 19 20 21 22 23]] [[ 1  1  2  3  4  5]\n",
      " [ 6  7  8  9 10 11]\n",
      " [12 13 14 15 16 17]\n",
      " [18 19 20 21 22 23]]\n"
     ]
    }
   ],
   "source": [
    "# shallow copy\n",
    "np1 = np.arange(24).reshape(4, 6)\n",
    "print(np1)\n",
    "np2 = np1.view()\n",
    "print(np2)\n",
    "\n",
    "print('----------------')\n",
    "np2[0, 0] = 1\n",
    "print(np1, np2)"
   ]
  },
  {
   "cell_type": "code",
   "execution_count": 170,
   "metadata": {},
   "outputs": [
    {
     "name": "stdout",
     "output_type": "stream",
     "text": [
      "[[ 0  1  2  3  4  5]\n",
      " [ 6  7  8  9 10 11]\n",
      " [12 13 14 15 16 17]\n",
      " [18 19 20 21 22 23]]\n",
      "[[ 0  1  2  3  4  5]\n",
      " [ 6  7  8  9 10 11]\n",
      " [12 13 14 15 16 17]\n",
      " [18 19 20 21 22 23]]\n",
      "----------------\n",
      "[[ 0  1  2  3  4  5]\n",
      " [ 6  7  8  9 10 11]\n",
      " [12 13 14 15 16 17]\n",
      " [18 19 20 21 22 23]] [[ 1  1  2  3  4  5]\n",
      " [ 6  7  8  9 10 11]\n",
      " [12 13 14 15 16 17]\n",
      " [18 19 20 21 22 23]]\n"
     ]
    }
   ],
   "source": [
    "# deep copy\n",
    "np1 = np.arange(24).reshape(4, 6)\n",
    "print(np1)\n",
    "np2 = np1.copy()\n",
    "print(np2)\n",
    "\n",
    "print('----------------')\n",
    "np2[0, 0] = 1\n",
    "print(np1, np2)"
   ]
  }
 ],
 "metadata": {
  "kernelspec": {
   "display_name": "base",
   "language": "python",
   "name": "python3"
  },
  "language_info": {
   "codemirror_mode": {
    "name": "ipython",
    "version": 3
   },
   "file_extension": ".py",
   "mimetype": "text/x-python",
   "name": "python",
   "nbconvert_exporter": "python",
   "pygments_lexer": "ipython3",
   "version": "3.11.5"
  }
 },
 "nbformat": 4,
 "nbformat_minor": 2
}
